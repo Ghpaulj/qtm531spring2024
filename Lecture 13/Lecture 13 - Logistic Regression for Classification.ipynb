{
 "cells": [
  {
   "attachments": {},
   "cell_type": "markdown",
   "metadata": {},
   "source": [
    "# <span style=\"color:darkblue\"> Lecture 13: Logistic Regression for Classification\n",
    " </span>\n",
    "\n",
    "<font size = \"5\">\n",
    "\n"
   ]
  },
  {
   "attachments": {},
   "cell_type": "markdown",
   "metadata": {},
   "source": [
    "# <span style=\"color:darkblue\"> I. Import Libraries </span>\n"
   ]
  },
  {
   "cell_type": "code",
   "execution_count": 1,
   "metadata": {},
   "outputs": [],
   "source": [
    "# The \"pandas\" library is used for processing datasets\n",
    "# The \"numpy\" is for numeric observations and random numbers\n",
    "# The \"matplotlib.pyplot\" library is for creating graphs\n",
    "\n",
    "import pandas as pd\n",
    "import numpy as np\n",
    "import matplotlib.pyplot as plt\n",
    "\n",
    "# We will use the \"sklearn\" package\n",
    "\n",
    "from sklearn.linear_model import LogisticRegression\n",
    "from sklearn.metrics import classification_report, confusion_matrix\n",
    "from sklearn.model_selection import train_test_split\n",
    "\n",
    "# Import stats models\n",
    "\n",
    "\n",
    "# This is used to create data matrices\n",
    "import patsy"
   ]
  },
  {
   "cell_type": "markdown",
   "metadata": {},
   "source": [
    "<font size = \"5\" >\n",
    "\n",
    "### <span style=\"color:darkblue\">  II. Example: Diffusion of microfinance </span>\n",
    "\n",
    "Banerjee et al. (2013) explored the effects of a marketing <br>\n",
    "campaign in rural villages in Karnataka, India, on the   <br>\n",
    "probability of requesting a microfinance loan.\n",
    "\n",
    "https://www.science.org/doi/10.1126/science.1236498\n",
    "\n",
    "We will use their data today."
   ]
  },
  {
   "cell_type": "markdown",
   "metadata": {},
   "source": [
    "<font size = \"5\">\n",
    "\n",
    "The outcome variable <br>\n",
    "\n",
    "$\\quad Y_i = \\text{RequestLoan}_i $"
   ]
  },
  {
   "cell_type": "markdown",
   "metadata": {},
   "source": [
    "<font size = \"5\">\n",
    "\n",
    "The predictor vector:\n",
    "\n",
    "$\\quad X_i = \\begin{bmatrix} 1 \\\\ \\text{ReceivedInfo}_i \\\\ \\text{OwnsHouse}_i \\\\ \\text{HomeNumRooms}_i \\end{bmatrix} $\n",
    "\n"
   ]
  },
  {
   "cell_type": "markdown",
   "metadata": {},
   "source": [
    "# <span style=\"color:darkblue\"> III. Prepare Data </span>\n"
   ]
  },
  {
   "cell_type": "markdown",
   "metadata": {},
   "source": [
    "<font size = \"5\">\n",
    "\n",
    "Read microfinance data"
   ]
  },
  {
   "cell_type": "code",
   "execution_count": 45,
   "metadata": {},
   "outputs": [],
   "source": [
    "dataset = pd.read_csv(\"data_raw/microfinance_data.csv\")"
   ]
  },
  {
   "cell_type": "markdown",
   "metadata": {},
   "source": [
    "<font size = \"5\">\n",
    "\n",
    "Create \"y\" and \"X\" matrices from a formula. This allows for:\n",
    "\n",
    "- Interactions\n",
    "- Factors\n",
    "- Polynomials"
   ]
  },
  {
   "cell_type": "code",
   "execution_count": 47,
   "metadata": {},
   "outputs": [],
   "source": [
    "y, X = \\\n",
    "    patsy.dmatrices('request_loan ~ received_info + owns_house + home_numrooms',\n",
    "                       dataset)\n",
    "y = np.ravel(y)"
   ]
  },
  {
   "cell_type": "markdown",
   "metadata": {},
   "source": [
    "<font size = \"5\">\n",
    "\n",
    "Split the data into training and test\n",
    "\n",
    "<font size = \"3\">\n",
    "\n",
    "- \"test_size\" is a number between 0 and 1 that control the relative <br>\n",
    "proportions of the training and test datasets.\n",
    "- \"random_state\" is a seed that ensures that the training and test datasets <br>\n",
    "can be replicated"
   ]
  },
  {
   "cell_type": "code",
   "execution_count": 4,
   "metadata": {},
   "outputs": [],
   "source": [
    "X_train, X_test, y_train, y_test = train_test_split(\n",
    "           X, y, test_size=0.5, random_state=42)"
   ]
  },
  {
   "cell_type": "markdown",
   "metadata": {},
   "source": [
    "# <span style=\"color:darkblue\"> IV. Fit model and evaluate classification accuracy </span>\n"
   ]
  },
  {
   "cell_type": "markdown",
   "metadata": {},
   "source": [
    "<font size = \"5\">\n",
    "\n",
    "Fit model on data using \"Sk-learn\""
   ]
  },
  {
   "cell_type": "code",
   "execution_count": 5,
   "metadata": {},
   "outputs": [],
   "source": [
    "model = LogisticRegression().fit(X_train,y_train)"
   ]
  },
  {
   "cell_type": "markdown",
   "metadata": {},
   "source": [
    "<font size = \"5\">\n",
    "\n",
    "Obtain vector of predicted probabilites on test set"
   ]
  },
  {
   "cell_type": "code",
   "execution_count": 6,
   "metadata": {},
   "outputs": [
    {
     "data": {
      "text/plain": [
       "Text(0.5, 1.0, 'Predicted Probabilities on Test Set')"
      ]
     },
     "execution_count": 6,
     "metadata": {},
     "output_type": "execute_result"
    },
    {
     "data": {
      "image/png": "[encoded data removed]",
      "text/plain": [
       "<Figure size 432x288 with 1 Axes>"
      ]
     },
     "metadata": {
      "needs_background": "light"
     },
     "output_type": "display_data"
    }
   ],
   "source": [
    "# Obtain predicted probabilities\n",
    "mat_probabilities = pd.DataFrame(model.predict_proba(X_test))\n",
    "\n",
    "# Obtain probabilites for the event 1 \n",
    "# (This is the second column of \"mat_probabilities\")\n",
    "vec_probabilities = mat_probabilities.iloc[:,1]\n",
    "\n",
    "# Display results\n",
    "plt.hist(x = vec_probabilities)\n",
    "plt.xlabel(\"Predicted Probability\")\n",
    "plt.ylabel(\"Frequency\")\n",
    "plt.title(\"Predicted Probabilities on Test Set\")"
   ]
  },
  {
   "cell_type": "markdown",
   "metadata": {},
   "source": [
    "<font size = \"5\">\n",
    "\n",
    "Classifying observations\n",
    "\n",
    "- If probability is higher than 0.15 classify as 1\n",
    "- Can change threshold"
   ]
  },
  {
   "cell_type": "code",
   "execution_count": 7,
   "metadata": {},
   "outputs": [],
   "source": [
    "bins_y = [0,0.15, 1]\n",
    "labels_y = [0,1]\n",
    "\n",
    "predicted_labels = pd.cut(vec_probabilities,\n",
    "                              bins = bins_y,\n",
    "                              right = True,\n",
    "                              labels = labels_y)"
   ]
  },
  {
   "cell_type": "markdown",
   "metadata": {},
   "source": [
    "<font size = \"5\">\n",
    "\n",
    "Obtain a confusion matrix"
   ]
  },
  {
   "cell_type": "code",
   "execution_count": 8,
   "metadata": {},
   "outputs": [
    {
     "data": {
      "text/plain": [
       "array([[1113, 2778],\n",
       "       [ 222,  686]])"
      ]
     },
     "execution_count": 8,
     "metadata": {},
     "output_type": "execute_result"
    }
   ],
   "source": [
    "cm = confusion_matrix(y_test, predicted_labels)\n",
    "cm"
   ]
  },
  {
   "cell_type": "code",
   "execution_count": 12,
   "metadata": {},
   "outputs": [
    {
     "data": {
      "text/plain": [
       "array([[0.11596166, 0.2894353 ],\n",
       "       [0.02312982, 0.07147322]])"
      ]
     },
     "execution_count": 12,
     "metadata": {},
     "output_type": "execute_result"
    }
   ],
   "source": [
    "cmnew=cm/len(dataset)\n",
    "cmnew"
   ]
  },
  {
   "cell_type": "markdown",
   "metadata": {},
   "source": [
    "<font size = \"5\">\n",
    "\n",
    "Display confusion matrix"
   ]
  },
  {
   "cell_type": "code",
   "execution_count": 13,
   "metadata": {},
   "outputs": [
    {
     "data": {
      "image/png": "[encoded data removed]",
      "text/plain": [
       "<Figure size 576x576 with 1 Axes>"
      ]
     },
     "metadata": {
      "needs_background": "light"
     },
     "output_type": "display_data"
    }
   ],
   "source": [
    "\n",
    "fig, ax = plt.subplots(figsize=(8, 8))\n",
    "ax.imshow(cmnew)\n",
    "ax.grid(False)\n",
    "ax.xaxis.set(ticks=(0, 1), ticklabels=('Predicted 0s', 'Predicted 1s'))\n",
    "ax.yaxis.set(ticks=(0, 1), ticklabels=('Actual 0s', 'Actual 1s'))\n",
    "ax.set_ylim(1.5, -0.5)\n",
    "for i in range(2):\n",
    "    for j in range(2):\n",
    "        ax.text(j, i, cmnew[i, j], ha='center', va='center')\n",
    "plt.show()"
   ]
  },
  {
   "cell_type": "markdown",
   "metadata": {},
   "source": [
    "# <span style=\"color:darkblue\"> IV. Exercises </span>\n",
    "\n",
    "<font size = \"5\">\n",
    "\n",
    "Try it yourself\n",
    "\n",
    "- Change the classification threshold\n",
    "- How does this change the classification accuracy?\n"
   ]
  },
  {
   "cell_type": "code",
   "execution_count": 19,
   "metadata": {},
   "outputs": [
    {
     "data": {
      "image/png": "[encoded data removed]",
      "text/plain": [
       "<Figure size 576x576 with 1 Axes>"
      ]
     },
     "metadata": {
      "needs_background": "light"
     },
     "output_type": "display_data"
    }
   ],
   "source": [
    "# Write your own code\n",
    "\n",
    "bins_y = [0,0.4, 1]\n",
    "labels_y = [0,1]\n",
    "\n",
    "predicted_labels = pd.cut(vec_probabilities,\n",
    "                              bins = bins_y,\n",
    "                              right = True,\n",
    "                              labels = labels_y)\n",
    "\n",
    "cm1 = confusion_matrix(y_test, predicted_labels)\n",
    "cm1\n",
    "\n",
    "cmnew1=cm1/len(dataset)\n",
    "cmnew1\n",
    "\n",
    "fig, ax = plt.subplots(figsize=(8, 8))\n",
    "ax.imshow(cmnew1)\n",
    "ax.grid(False)\n",
    "ax.xaxis.set(ticks=(0, 1), ticklabels=('Predicted 0s', 'Predicted 1s'))\n",
    "ax.yaxis.set(ticks=(0, 1), ticklabels=('Actual 0s', 'Actual 1s'))\n",
    "ax.set_ylim(1.5, -0.5)\n",
    "for i in range(2):\n",
    "    for j in range(2):\n",
    "        ax.text(j, i, cmnew1[i, j], ha='center', va='center')\n",
    "plt.show()"
   ]
  },
  {
   "cell_type": "code",
   "execution_count": 60,
   "metadata": {},
   "outputs": [
    {
     "data": {
      "text/plain": [
       "4799"
      ]
     },
     "execution_count": 60,
     "metadata": {},
     "output_type": "execute_result"
    }
   ],
   "source": [
    "len(y_test)"
   ]
  },
  {
   "cell_type": "code",
   "execution_count": 67,
   "metadata": {},
   "outputs": [
    {
     "data": {
      "text/plain": [
       "array([[0.00104188, 0.80975203],\n",
       "       [0.        , 0.18920608]])"
      ]
     },
     "metadata": {},
     "output_type": "display_data"
    },
    {
     "data": {
      "text/plain": [
       "array([[0.01708689, 0.79370702],\n",
       "       [0.00229214, 0.18691394]])"
      ]
     },
     "metadata": {},
     "output_type": "display_data"
    },
    {
     "data": {
      "text/plain": [
       "array([[0.23192332, 0.5788706 ],\n",
       "       [0.04625964, 0.14294645]])"
      ]
     },
     "metadata": {},
     "output_type": "display_data"
    },
    {
     "data": {
      "text/plain": [
       "array([[0.70868931, 0.10210461],\n",
       "       [0.15524068, 0.03396541]])"
      ]
     },
     "metadata": {},
     "output_type": "display_data"
    },
    {
     "data": {
      "text/plain": [
       "array([[0.79370702, 0.01708689],\n",
       "       [0.18149615, 0.00770994]])"
      ]
     },
     "metadata": {},
     "output_type": "display_data"
    },
    {
     "data": {
      "text/plain": [
       "array([[0.80871015, 0.00208377],\n",
       "       [0.18837258, 0.00083351]])"
      ]
     },
     "metadata": {},
     "output_type": "display_data"
    },
    {
     "data": {
      "text/plain": [
       "array([[0.81079392, 0.        ],\n",
       "       [0.18920608, 0.        ]])"
      ]
     },
     "metadata": {},
     "output_type": "display_data"
    },
    {
     "data": {
      "text/plain": [
       "array([[0.81079392, 0.        ],\n",
       "       [0.18920608, 0.        ]])"
      ]
     },
     "metadata": {},
     "output_type": "display_data"
    },
    {
     "data": {
      "text/plain": [
       "array([[0.81079392, 0.        ],\n",
       "       [0.18920608, 0.        ]])"
      ]
     },
     "metadata": {},
     "output_type": "display_data"
    }
   ],
   "source": [
    "for i in np.arange(0.05, 0.5, 0.05):\n",
    "    # Write your own code\n",
    "\n",
    "    bins_y = [0,i, 1]\n",
    "    labels_y = [0,1]\n",
    "\n",
    "    predicted_labels = pd.cut(vec_probabilities,\n",
    "                                  bins = bins_y,\n",
    "                                  right = True,\n",
    "                                  labels = labels_y)\n",
    "\n",
    "    cm1 = confusion_matrix(y_test, predicted_labels)\n",
    "    cm1\n",
    "\n",
    "    cmnew1=cm1/len(y_test)\n",
    "    display(cmnew1)\n",
    "\n",
    "    \n",
    "    "
   ]
  },
  {
   "cell_type": "markdown",
   "metadata": {},
   "source": [
    "<font size = \"5\">\n",
    "\n",
    "Try it yourself\n",
    "\n",
    "- Add interactions between \"Own rooms\" and other independent variables\n",
    "- Does this improve the classification accuracy?\n",
    " \n"
   ]
  },
  {
   "cell_type": "code",
   "execution_count": 65,
   "metadata": {},
   "outputs": [
    {
     "name": "stdout",
     "output_type": "stream",
     "text": [
      "[[ 5.26741007e-05  6.06075462e-01  2.18903962e-01 -2.90630246e-02\n",
      "  -1.93678064e-01 -1.64004181e-01]]\n"
     ]
    },
    {
     "data": {
      "text/plain": [
       "4799"
      ]
     },
     "execution_count": 65,
     "metadata": {},
     "output_type": "execute_result"
    },
    {
     "data": {
      "image/png": "[encoded data removed]",
      "text/plain": [
       "<Figure size 432x288 with 1 Axes>"
      ]
     },
     "metadata": {
      "needs_background": "light"
     },
     "output_type": "display_data"
    }
   ],
   "source": [
    "# Write your own code\n",
    "y1, X1 = \\\n",
    "    patsy.dmatrices('request_loan ~ received_info + owns_house + home_numrooms + received_info*owns_house + owns_house*home_numrooms',\n",
    "                       dataset)\n",
    "y1 = np.ravel(y1)\n",
    "\n",
    "X1_train, X1_test, y1_train, y1_test = train_test_split(\n",
    "           X1, y1, test_size=0.5, random_state=42)\n",
    "\n",
    "model1 = LogisticRegression().fit(X1_train,y1_train)\n",
    "print(model1.coef_)\n",
    "\n",
    "# Obtain predicted probabilities\n",
    "mat_probabilities1 = pd.DataFrame(model1.predict_proba(X1_test))\n",
    "\n",
    "# Obtain probabilites for the event 1 \n",
    "# (This is the second column of \"mat_probabilities\")\n",
    "vec_probabilities1 = mat_probabilities1.iloc[:,1]\n",
    "\n",
    "# Display results\n",
    "plt.hist(x = vec_probabilities1)\n",
    "plt.xlabel(\"Predicted Probability\")\n",
    "plt.ylabel(\"Frequency\")\n",
    "plt.title(\"Predicted Probabilities on Test Set\")\n",
    "len(y1_test)"
   ]
  },
  {
   "cell_type": "code",
   "execution_count": 66,
   "metadata": {},
   "outputs": [
    {
     "data": {
      "text/plain": [
       "array([[0.00104188, 0.80975203],\n",
       "       [0.        , 0.18920608]])"
      ]
     },
     "metadata": {},
     "output_type": "display_data"
    },
    {
     "data": {
      "text/plain": [
       "array([[0.01687852, 0.7939154 ],\n",
       "       [0.00208377, 0.18712232]])"
      ]
     },
     "metadata": {},
     "output_type": "display_data"
    },
    {
     "data": {
      "text/plain": [
       "array([[0.23275682, 0.57803709],\n",
       "       [0.04438425, 0.14482184]])"
      ]
     },
     "metadata": {},
     "output_type": "display_data"
    },
    {
     "data": {
      "text/plain": [
       "array([[0.582413  , 0.22838091],\n",
       "       [0.12731819, 0.06188789]])"
      ]
     },
     "metadata": {},
     "output_type": "display_data"
    },
    {
     "data": {
      "text/plain": [
       "array([[0.79245676, 0.01833715],\n",
       "       [0.18128777, 0.00791832]])"
      ]
     },
     "metadata": {},
     "output_type": "display_data"
    },
    {
     "data": {
      "text/plain": [
       "array([[0.80871015, 0.00208377],\n",
       "       [0.18837258, 0.00083351]])"
      ]
     },
     "metadata": {},
     "output_type": "display_data"
    },
    {
     "data": {
      "text/plain": [
       "array([[0.81079392, 0.        ],\n",
       "       [0.18920608, 0.        ]])"
      ]
     },
     "metadata": {},
     "output_type": "display_data"
    },
    {
     "data": {
      "text/plain": [
       "array([[0.81079392, 0.        ],\n",
       "       [0.18920608, 0.        ]])"
      ]
     },
     "metadata": {},
     "output_type": "display_data"
    },
    {
     "data": {
      "text/plain": [
       "array([[0.81079392, 0.        ],\n",
       "       [0.18920608, 0.        ]])"
      ]
     },
     "metadata": {},
     "output_type": "display_data"
    }
   ],
   "source": [
    "for i in np.arange(0.05, 0.5, 0.05):\n",
    "    # Write your own code\n",
    "\n",
    "    bins_y = [0,i, 1]\n",
    "    labels_y = [0,1]\n",
    "\n",
    "    predicted_labels1 = pd.cut(vec_probabilities1,\n",
    "                                  bins = bins_y,\n",
    "                                  right = True,\n",
    "                                  labels = labels_y)\n",
    "\n",
    "    cm2 = confusion_matrix(y1_test, predicted_labels1)\n",
    "    cm2\n",
    "\n",
    "    cmnew2=cm2/len(y1_test)\n",
    "    display(cmnew2)\n"
   ]
  },
  {
   "cell_type": "markdown",
   "metadata": {},
   "source": [
    "<font size = \"5\">"
   ]
  }
 ],
 "metadata": {
  "kernelspec": {
   "display_name": "base",
   "language": "python",
   "name": "python3"
  },
  "language_info": {
   "codemirror_mode": {
    "name": "ipython",
    "version": 3
   },
   "file_extension": ".py",
   "mimetype": "text/x-python",
   "name": "python",
   "nbconvert_exporter": "python",
   "pygments_lexer": "ipython3",
   "version": "3.9.12"
  },
  "orig_nbformat": 4,
  "vscode": {
   "interpreter": {
    "hash": "45fc1f684f6f416f40889115beff3ddf69879b64cf4bfee48cb72a61e9d15d1a"
   }
  }
 },
 "nbformat": 4,
 "nbformat_minor": 2
}
