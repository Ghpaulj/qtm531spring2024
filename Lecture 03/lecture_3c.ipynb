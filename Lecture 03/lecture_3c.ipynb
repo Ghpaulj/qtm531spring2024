{
 "cells": [
  {
   "attachments": {},
   "cell_type": "markdown",
   "metadata": {},
   "source": [
    "# <span style=\"color:darkblue\"> Lecture 3c: Transform </span>\n",
    "\n",
    "<font size = \"5\">\n",
    "\n",
    "This is a complement to Lecture 3b\n"
   ]
  },
  {
   "cell_type": "markdown",
   "metadata": {},
   "source": [
    "# <span style=\"color:darkblue\"> I. Import Libraries and Data </span>\n"
   ]
  },
  {
   "cell_type": "markdown",
   "metadata": {},
   "source": [
    "<font size = \"5\">\n",
    "Key libraries"
   ]
  },
  {
   "cell_type": "code",
   "execution_count": 1,
   "metadata": {},
   "outputs": [],
   "source": [
    "import numpy as np\n",
    "import pandas as pd\n",
    "import matplotlib.pyplot as plt"
   ]
  },
  {
   "cell_type": "code",
   "execution_count": 2,
   "metadata": {},
   "outputs": [],
   "source": [
    "results = pd.read_csv(\"data_raw/results.csv\")"
   ]
  },
  {
   "attachments": {},
   "cell_type": "markdown",
   "metadata": {},
   "source": [
    "# <span style=\"color:darkblue\"> II. Transform + Groupby </span>\n",
    "\n"
   ]
  },
  {
   "attachments": {},
   "cell_type": "markdown",
   "metadata": {},
   "source": [
    "<font size = \"5\">\n",
    "\n",
    "Adding columns with grouped aggregate statistics\n",
    "\n",
    "<img src=\"figures/transform_stats.png\" alt=\"drawing\" width=\"300\"/>\n"
   ]
  },
  {
   "cell_type": "code",
   "execution_count": 3,
   "metadata": {},
   "outputs": [],
   "source": [
    "# We've use \"transform\" to compute a column with aggregate statistics\n",
    "# If we add the pipe \"groupby\" the aggregate statistics are computed by group\n",
    "# with group level averages.\n",
    "# We can use any aggregate function, including \"mean\", \"std\", \"max\",\"min\", etc.\n",
    "\n",
    "results[\"mean_points_driver\"] = results.groupby(\"driverId\")[\"points\"].transform(\"mean\")\n",
    "results[\"std_points_driver\"]  = results.groupby(\"driverId\")[\"points\"].transform(\"std\")\n"
   ]
  },
  {
   "attachments": {},
   "cell_type": "markdown",
   "metadata": {},
   "source": [
    "<font size = \"5\">\n",
    "\n",
    "Computing the rank\n"
   ]
  },
  {
   "cell_type": "code",
   "execution_count": 4,
   "metadata": {},
   "outputs": [],
   "source": [
    "# The rank function calculates the relative position\n",
    "# The option 'method = \"dense\"' options gives multiple individuals\n",
    "# the same rank if there is a tie\n",
    "# The option 'ascending = False' indicates the the person with the lowest\n",
    "# score is \"1\", the second lowest is \"2\", etc.\n",
    "\n",
    "results[\"rank_points\"] = results[\"points\"].rank(method = \"dense\",\n",
    "                                                ascending = False)"
   ]
  },
  {
   "cell_type": "code",
   "execution_count": 5,
   "metadata": {},
   "outputs": [
    {
     "data": {
      "text/plain": [
       "Text(0.5, 0, 'Relative Ranking')"
      ]
     },
     "execution_count": 5,
     "metadata": {},
     "output_type": "execute_result"
    },
    {
     "data": {
      "image/png": "[encoded data removed]",
      "text/plain": [
       "<Figure size 432x288 with 1 Axes>"
      ]
     },
     "metadata": {
      "needs_background": "light"
     },
     "output_type": "display_data"
    }
   ],
   "source": [
    "# The graph shows that the winner gets 50 points\n",
    "plt.scatter(x = results[\"rank_points\"],y = results[\"points\"])\n",
    "plt.ylabel(\"Number of Points\")\n",
    "plt.xlabel(\"Relative Ranking\")"
   ]
  },
  {
   "attachments": {},
   "cell_type": "markdown",
   "metadata": {},
   "source": [
    "<font size = \"5\">\n",
    "\n",
    "Computing the rank by group"
   ]
  },
  {
   "cell_type": "code",
   "execution_count": 8,
   "metadata": {},
   "outputs": [
    {
     "data": {
      "text/plain": [
       "0        13.0\n",
       "1         8.0\n",
       "2         9.0\n",
       "3         6.0\n",
       "4         6.0\n",
       "         ... \n",
       "25835     1.0\n",
       "25836     1.0\n",
       "25837     1.0\n",
       "25838     1.0\n",
       "25839     1.0\n",
       "Name: rank_points_withinteam, Length: 25840, dtype: float64"
      ]
     },
     "execution_count": 8,
     "metadata": {},
     "output_type": "execute_result"
    }
   ],
   "source": [
    "# The subfunction \"transform\" allows us to pass-along some of the options\n",
    "\n",
    "results[\"rank_points_withinteam\"] = (results.groupby(\"constructorId\")[\"points\"]\n",
    "                                            .transform(\"rank\",\n",
    "                                                       method = \"dense\",\n",
    "                                                       ascending = True))\n",
    "results[\"rank_points_withinteam\"]"
   ]
  }
 ],
 "metadata": {
  "kernelspec": {
   "display_name": "base",
   "language": "python",
   "name": "python3"
  },
  "language_info": {
   "codemirror_mode": {
    "name": "ipython",
    "version": 3
   },
   "file_extension": ".py",
   "mimetype": "text/x-python",
   "name": "python",
   "nbconvert_exporter": "python",
   "pygments_lexer": "ipython3",
   "version": "3.9.12"
  },
  "orig_nbformat": 4,
  "vscode": {
   "interpreter": {
    "hash": "45fc1f684f6f416f40889115beff3ddf69879b64cf4bfee48cb72a61e9d15d1a"
   }
  }
 },
 "nbformat": 4,
 "nbformat_minor": 2
}
