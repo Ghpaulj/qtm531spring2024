{
 "cells": [
  {
   "attachments": {},
   "cell_type": "markdown",
   "metadata": {},
   "source": [
    "# <span style=\"color:darkblue\"> Lecture 9 Exercises </span>"
   ]
  },
  {
   "attachments": {},
   "cell_type": "markdown",
   "metadata": {},
   "source": [
    "<font size = \"5\">\n",
    "\n",
    "Import the libraries \"matplotlib.pyplot\" and \"pandas\""
   ]
  },
  {
   "cell_type": "code",
   "execution_count": 2,
   "metadata": {},
   "outputs": [],
   "source": [
    "# Write your answer here\n",
    "\n",
    "import matplotlib.pyplot as plt\n",
    "import pandas as pd"
   ]
  },
  {
   "attachments": {},
   "cell_type": "markdown",
   "metadata": {},
   "source": [
    "<font size = \"5\">\n",
    "\n",
    "In this quiz you will work with data on exchange rates, <br>\n",
    "for two currencies:\n",
    "\n",
    "- 1 dollar (USD) to chinese yuan (RMB)\n",
    "- 1 dollar (USD) to japanese yen (JPY)."
   ]
  },
  {
   "attachments": {},
   "cell_type": "markdown",
   "metadata": {},
   "source": [
    "\n",
    "<font size = \"5\">\n",
    "\n",
    "(a) Import and parse dates\n",
    "\n",
    "<font size = \"3\">\n",
    "\n",
    "- Import the dataset \"exchangerates.csv\"\n",
    "- Parse the \"date_string\" column with ```pd.to_datetime()```\n",
    "\n"
   ]
  },
  {
   "cell_type": "code",
   "execution_count": 3,
   "metadata": {},
   "outputs": [
    {
     "data": {
      "text/html": [
       "<div>\n",
       "<style scoped>\n",
       "    .dataframe tbody tr th:only-of-type {\n",
       "        vertical-align: middle;\n",
       "    }\n",
       "\n",
       "    .dataframe tbody tr th {\n",
       "        vertical-align: top;\n",
       "    }\n",
       "\n",
       "    .dataframe thead th {\n",
       "        text-align: right;\n",
       "    }\n",
       "</style>\n",
       "<table border=\"1\" class=\"dataframe\">\n",
       "  <thead>\n",
       "    <tr style=\"text-align: right;\">\n",
       "      <th></th>\n",
       "      <th>date_string</th>\n",
       "      <th>usd_to_rmb</th>\n",
       "      <th>usd_to_jpy</th>\n",
       "      <th>date</th>\n",
       "    </tr>\n",
       "  </thead>\n",
       "  <tbody>\n",
       "    <tr>\n",
       "      <th>0</th>\n",
       "      <td>1981, Friday, Jan 02</td>\n",
       "      <td>1.5341</td>\n",
       "      <td>202.50</td>\n",
       "      <td>1981-01-02</td>\n",
       "    </tr>\n",
       "    <tr>\n",
       "      <th>1</th>\n",
       "      <td>1981, Monday, Jan 05</td>\n",
       "      <td>1.5418</td>\n",
       "      <td>199.05</td>\n",
       "      <td>1981-01-05</td>\n",
       "    </tr>\n",
       "    <tr>\n",
       "      <th>2</th>\n",
       "      <td>1981, Tuesday, Jan 06</td>\n",
       "      <td>1.5264</td>\n",
       "      <td>199.70</td>\n",
       "      <td>1981-01-06</td>\n",
       "    </tr>\n",
       "    <tr>\n",
       "      <th>3</th>\n",
       "      <td>1981, Wednesday, Jan 07</td>\n",
       "      <td>1.5264</td>\n",
       "      <td>201.05</td>\n",
       "      <td>1981-01-07</td>\n",
       "    </tr>\n",
       "    <tr>\n",
       "      <th>4</th>\n",
       "      <td>1981, Thursday, Jan 08</td>\n",
       "      <td>1.5264</td>\n",
       "      <td>201.70</td>\n",
       "      <td>1981-01-08</td>\n",
       "    </tr>\n",
       "    <tr>\n",
       "      <th>...</th>\n",
       "      <td>...</td>\n",
       "      <td>...</td>\n",
       "      <td>...</td>\n",
       "      <td>...</td>\n",
       "    </tr>\n",
       "    <tr>\n",
       "      <th>11016</th>\n",
       "      <td>2023, Monday, Mar 27</td>\n",
       "      <td>6.8834</td>\n",
       "      <td>131.49</td>\n",
       "      <td>2023-03-27</td>\n",
       "    </tr>\n",
       "    <tr>\n",
       "      <th>11017</th>\n",
       "      <td>2023, Tuesday, Mar 28</td>\n",
       "      <td>6.8725</td>\n",
       "      <td>130.97</td>\n",
       "      <td>2023-03-28</td>\n",
       "    </tr>\n",
       "    <tr>\n",
       "      <th>11018</th>\n",
       "      <td>2023, Wednesday, Mar 29</td>\n",
       "      <td>6.8862</td>\n",
       "      <td>132.69</td>\n",
       "      <td>2023-03-29</td>\n",
       "    </tr>\n",
       "    <tr>\n",
       "      <th>11019</th>\n",
       "      <td>2023, Thursday, Mar 30</td>\n",
       "      <td>6.8700</td>\n",
       "      <td>132.71</td>\n",
       "      <td>2023-03-30</td>\n",
       "    </tr>\n",
       "    <tr>\n",
       "      <th>11020</th>\n",
       "      <td>2023, Friday, Mar 31</td>\n",
       "      <td>6.8676</td>\n",
       "      <td>132.75</td>\n",
       "      <td>2023-03-31</td>\n",
       "    </tr>\n",
       "  </tbody>\n",
       "</table>\n",
       "<p>11021 rows × 4 columns</p>\n",
       "</div>"
      ],
      "text/plain": [
       "                   date_string  usd_to_rmb  usd_to_jpy       date\n",
       "0         1981, Friday, Jan 02      1.5341      202.50 1981-01-02\n",
       "1         1981, Monday, Jan 05      1.5418      199.05 1981-01-05\n",
       "2        1981, Tuesday, Jan 06      1.5264      199.70 1981-01-06\n",
       "3      1981, Wednesday, Jan 07      1.5264      201.05 1981-01-07\n",
       "4       1981, Thursday, Jan 08      1.5264      201.70 1981-01-08\n",
       "...                        ...         ...         ...        ...\n",
       "11016     2023, Monday, Mar 27      6.8834      131.49 2023-03-27\n",
       "11017    2023, Tuesday, Mar 28      6.8725      130.97 2023-03-28\n",
       "11018  2023, Wednesday, Mar 29      6.8862      132.69 2023-03-29\n",
       "11019   2023, Thursday, Mar 30      6.8700      132.71 2023-03-30\n",
       "11020     2023, Friday, Mar 31      6.8676      132.75 2023-03-31\n",
       "\n",
       "[11021 rows x 4 columns]"
      ]
     },
     "execution_count": 3,
     "metadata": {},
     "output_type": "execute_result"
    }
   ],
   "source": [
    "# Write your own code\n",
    "exchangerates=pd.read_csv('data_raw/exchangerates.csv')\n",
    "\n",
    "exchangerates['date']=pd.to_datetime(exchangerates['date_string'])\n",
    "\n",
    "exchangerates"
   ]
  },
  {
   "attachments": {},
   "cell_type": "markdown",
   "metadata": {},
   "source": [
    "<font size = \"5\">\n",
    "\n",
    "(b) Plot multiple time series\n",
    "\n",
    "<font size = \"3\">\n",
    "\n",
    "- Create a line plot plot which has the \"usd_to_rmb\" and \"usd_to_jpy\" on the y-axis <br>\n",
    "and the date on the x-axis\n",
    "- Label the x-axis, the y-axis, and the title\n",
    "- Add a legend and set the names to \"1 USD to RMB\" and \"1 USD to JPY\"\n",
    "\n"
   ]
  },
  {
   "cell_type": "code",
   "execution_count": 4,
   "metadata": {},
   "outputs": [
    {
     "data": {
      "text/plain": [
       "<matplotlib.legend.Legend at 0x7fabe0f0ddf0>"
      ]
     },
     "execution_count": 4,
     "metadata": {},
     "output_type": "execute_result"
    },
    {
     "data": {
      "image/png": "[encoded data removed]",
      "text/plain": [
       "<Figure size 432x288 with 1 Axes>"
      ]
     },
     "metadata": {
      "needs_background": "light"
     },
     "output_type": "display_data"
    }
   ],
   "source": [
    "# Write your own code\n",
    "\n",
    "exchangerates[[\"date\",\"usd_to_rmb\",\"usd_to_jpy\"]].set_index(\"date\").plot()\n",
    "plt.xlabel(\"Time\")\n",
    "plt.ylabel(\"Exchange Rate\")\n",
    "plt.legend([\"rmb\",\"jpy\"])"
   ]
  },
  {
   "attachments": {},
   "cell_type": "markdown",
   "metadata": {},
   "source": [
    "<font size = \"5\">\n",
    "\n",
    "(c) Compute growth rates\n",
    "\n",
    "<font size = \"3\">\n",
    "\n",
    "- Calculate a new column \"growth_rmb\" which computes the percentage daily <br>\n",
    "growth rate of \"usd_to_rmb\".\n",
    "\n"
   ]
  },
  {
   "cell_type": "code",
   "execution_count": 17,
   "metadata": {},
   "outputs": [
    {
     "data": {
      "text/plain": [
       "0             NaN\n",
       "1        0.501923\n",
       "2       -0.998833\n",
       "3        0.000000\n",
       "4        0.000000\n",
       "           ...   \n",
       "11016    0.231525\n",
       "11017   -0.158352\n",
       "11018    0.199345\n",
       "11019   -0.235253\n",
       "11020   -0.034934\n",
       "Name: growth_rmb, Length: 11021, dtype: float64"
      ]
     },
     "execution_count": 17,
     "metadata": {},
     "output_type": "execute_result"
    }
   ],
   "source": [
    "# Write your own code\n",
    "\n",
    "\n",
    "exchangerates[\"diff_rmb\"] = exchangerates[\"usd_to_rmb\"].diff()\n",
    "\n",
    "exchangerates[\"lag_rmb\"]    = exchangerates[\"usd_to_rmb\"].shift(1)\n",
    "\n",
    "exchangerates[\"growth_rmb\"] = (exchangerates[\"diff_rmb\"]/exchangerates[\"lag_rmb\"])* 100\n",
    "\n",
    "exchangerates[\"growth_rmb\"]"
   ]
  },
  {
   "attachments": {},
   "cell_type": "markdown",
   "metadata": {},
   "source": [
    "<font size = \"5\">\n",
    "\n",
    "(d) Flag subset of data and plot\n",
    "\n",
    "<font size = \"3\">\n",
    "\n",
    "- Create a boolean colum (True/False) \"bool_cond\" which checks whether <br>\n",
    "\"growth_rmb\" had a value greater than 2 or less than -2\n",
    "- Generate a line plot with the \"growth_rmb\" series, label the axes and the title\n",
    "- Use the command ```plt.fill_between()``` to create a shaded region <br>\n",
    "for time periods where \"bool_cond\" is true.\n",
    "\n"
   ]
  },
  {
   "cell_type": "code",
   "execution_count": 18,
   "metadata": {},
   "outputs": [
    {
     "data": {
      "text/plain": [
       "0        False\n",
       "1        False\n",
       "2        False\n",
       "3        False\n",
       "4        False\n",
       "         ...  \n",
       "11016    False\n",
       "11017    False\n",
       "11018    False\n",
       "11019    False\n",
       "11020    False\n",
       "Name: bool_cond, Length: 11021, dtype: bool"
      ]
     },
     "execution_count": 18,
     "metadata": {},
     "output_type": "execute_result"
    }
   ],
   "source": [
    "exchangerates['bool_cond']"
   ]
  },
  {
   "cell_type": "code",
   "execution_count": 20,
   "metadata": {},
   "outputs": [
    {
     "data": {
      "image/png": "[encoded data removed]",
      "text/plain": [
       "<Figure size 1008x504 with 1 Axes>"
      ]
     },
     "metadata": {
      "needs_background": "light"
     },
     "output_type": "display_data"
    }
   ],
   "source": [
    "# Write your own code\n",
    "\n",
    "exchangerates['bool_cond'] = exchangerates['growth_rmb'].apply(lambda x: x > 2 or x < -2)\n",
    "\n",
    "# Plotting\n",
    "plt.figure(figsize=(14, 7))\n",
    "plt.plot(exchangerates['date'], exchangerates['growth_rmb'], label='Daily Growth Rate of USD to RMB', linestyle='-', marker='', color='blue')\n",
    "plt.xlabel('Date')\n",
    "plt.ylabel('Growth Rate (%)')\n",
    "plt.title('Daily Growth Rate of USD to RMB')\n",
    "plt.fill_between(exchangerates['date'], exchangerates['growth_rmb'], where=exchangerates['bool_cond'], color='red', alpha=0.3)\n",
    "plt.legend()\n",
    "plt.grid(True)\n",
    "plt.tight_layout()\n",
    "plt.show()\n",
    "\n"
   ]
  },
  {
   "attachments": {},
   "cell_type": "markdown",
   "metadata": {},
   "source": [
    "<font size = \"5\">\n",
    "\n",
    "(e) Aggregate dataset by time period\n",
    "\n",
    "<font size = \"3\">\n",
    "\n",
    "- Create an object \"month_config\" that uses ```pd.Grouper()```, setting the key to <br>\n",
    "the date column and freq to \"m\" (month)\n",
    "- Compute an aggregate dataset <br>\n",
    "by month which computes the standard deviation of \"usd_to_rmb\"\n",
    "- Display the dataset\n",
    "\n",
    "\n"
   ]
  },
  {
   "cell_type": "code",
   "execution_count": 12,
   "metadata": {},
   "outputs": [
    {
     "data": {
      "text/html": [
       "<div>\n",
       "<style scoped>\n",
       "    .dataframe tbody tr th:only-of-type {\n",
       "        vertical-align: middle;\n",
       "    }\n",
       "\n",
       "    .dataframe tbody tr th {\n",
       "        vertical-align: top;\n",
       "    }\n",
       "\n",
       "    .dataframe thead th {\n",
       "        text-align: right;\n",
       "    }\n",
       "</style>\n",
       "<table border=\"1\" class=\"dataframe\">\n",
       "  <thead>\n",
       "    <tr style=\"text-align: right;\">\n",
       "      <th></th>\n",
       "      <th>date</th>\n",
       "      <th>std_dev_usd_to_rmb</th>\n",
       "    </tr>\n",
       "  </thead>\n",
       "  <tbody>\n",
       "    <tr>\n",
       "      <th>0</th>\n",
       "      <td>1981-01-31</td>\n",
       "      <td>0.019149</td>\n",
       "    </tr>\n",
       "    <tr>\n",
       "      <th>1</th>\n",
       "      <td>1981-02-28</td>\n",
       "      <td>0.015432</td>\n",
       "    </tr>\n",
       "    <tr>\n",
       "      <th>2</th>\n",
       "      <td>1981-03-31</td>\n",
       "      <td>0.012636</td>\n",
       "    </tr>\n",
       "    <tr>\n",
       "      <th>3</th>\n",
       "      <td>1981-04-30</td>\n",
       "      <td>0.017154</td>\n",
       "    </tr>\n",
       "    <tr>\n",
       "      <th>4</th>\n",
       "      <td>1981-05-31</td>\n",
       "      <td>0.017583</td>\n",
       "    </tr>\n",
       "    <tr>\n",
       "      <th>...</th>\n",
       "      <td>...</td>\n",
       "      <td>...</td>\n",
       "    </tr>\n",
       "    <tr>\n",
       "      <th>502</th>\n",
       "      <td>2022-11-30</td>\n",
       "      <td>0.077405</td>\n",
       "    </tr>\n",
       "    <tr>\n",
       "      <th>503</th>\n",
       "      <td>2022-12-31</td>\n",
       "      <td>0.028203</td>\n",
       "    </tr>\n",
       "    <tr>\n",
       "      <th>504</th>\n",
       "      <td>2023-01-31</td>\n",
       "      <td>0.052152</td>\n",
       "    </tr>\n",
       "    <tr>\n",
       "      <th>505</th>\n",
       "      <td>2023-02-28</td>\n",
       "      <td>0.067344</td>\n",
       "    </tr>\n",
       "    <tr>\n",
       "      <th>506</th>\n",
       "      <td>2023-03-31</td>\n",
       "      <td>0.034796</td>\n",
       "    </tr>\n",
       "  </tbody>\n",
       "</table>\n",
       "<p>507 rows × 2 columns</p>\n",
       "</div>"
      ],
      "text/plain": [
       "          date  std_dev_usd_to_rmb\n",
       "0   1981-01-31            0.019149\n",
       "1   1981-02-28            0.015432\n",
       "2   1981-03-31            0.012636\n",
       "3   1981-04-30            0.017154\n",
       "4   1981-05-31            0.017583\n",
       "..         ...                 ...\n",
       "502 2022-11-30            0.077405\n",
       "503 2022-12-31            0.028203\n",
       "504 2023-01-31            0.052152\n",
       "505 2023-02-28            0.067344\n",
       "506 2023-03-31            0.034796\n",
       "\n",
       "[507 rows x 2 columns]"
      ]
     },
     "execution_count": 12,
     "metadata": {},
     "output_type": "execute_result"
    }
   ],
   "source": [
    "# Write your own code\n",
    "\n",
    "month_config = pd.Grouper(key='date', freq='m')\n",
    "\n",
    "monthly_std_dev = exchangerates.groupby(month_config)['usd_to_rmb'].std().reset_index(name='std_dev_usd_to_rmb')\n",
    "monthly_std_dev"
   ]
  },
  {
   "attachments": {},
   "cell_type": "markdown",
   "metadata": {},
   "source": [
    "<font size = \"5\">\n",
    "\n",
    "(f) Convert a dataset to long format\n",
    "\n",
    "<font size = \"3\">\n",
    "\n",
    "- Convert the currencies dataset to long format using the following inputs\n",
    "\n",
    "```\n",
    "var_name   = \"type\",\n",
    "value_name = \"exchange_rate\",\n",
    "id_vars    = \"date\",\n",
    "value_vars = [\"usd_to_rmb\",\"usd_to_jpy\"]\n",
    "```\n",
    "\n",
    "- Display the dataset\n"
   ]
  },
  {
   "cell_type": "code",
   "execution_count": 14,
   "metadata": {},
   "outputs": [
    {
     "data": {
      "text/html": [
       "<div>\n",
       "<style scoped>\n",
       "    .dataframe tbody tr th:only-of-type {\n",
       "        vertical-align: middle;\n",
       "    }\n",
       "\n",
       "    .dataframe tbody tr th {\n",
       "        vertical-align: top;\n",
       "    }\n",
       "\n",
       "    .dataframe thead th {\n",
       "        text-align: right;\n",
       "    }\n",
       "</style>\n",
       "<table border=\"1\" class=\"dataframe\">\n",
       "  <thead>\n",
       "    <tr style=\"text-align: right;\">\n",
       "      <th></th>\n",
       "      <th>date</th>\n",
       "      <th>type</th>\n",
       "      <th>exchange_rate</th>\n",
       "    </tr>\n",
       "  </thead>\n",
       "  <tbody>\n",
       "    <tr>\n",
       "      <th>0</th>\n",
       "      <td>1981-01-02</td>\n",
       "      <td>usd_to_rmb</td>\n",
       "      <td>1.5341</td>\n",
       "    </tr>\n",
       "    <tr>\n",
       "      <th>1</th>\n",
       "      <td>1981-01-05</td>\n",
       "      <td>usd_to_rmb</td>\n",
       "      <td>1.5418</td>\n",
       "    </tr>\n",
       "    <tr>\n",
       "      <th>2</th>\n",
       "      <td>1981-01-06</td>\n",
       "      <td>usd_to_rmb</td>\n",
       "      <td>1.5264</td>\n",
       "    </tr>\n",
       "    <tr>\n",
       "      <th>3</th>\n",
       "      <td>1981-01-07</td>\n",
       "      <td>usd_to_rmb</td>\n",
       "      <td>1.5264</td>\n",
       "    </tr>\n",
       "    <tr>\n",
       "      <th>4</th>\n",
       "      <td>1981-01-08</td>\n",
       "      <td>usd_to_rmb</td>\n",
       "      <td>1.5264</td>\n",
       "    </tr>\n",
       "    <tr>\n",
       "      <th>...</th>\n",
       "      <td>...</td>\n",
       "      <td>...</td>\n",
       "      <td>...</td>\n",
       "    </tr>\n",
       "    <tr>\n",
       "      <th>22037</th>\n",
       "      <td>2023-03-27</td>\n",
       "      <td>usd_to_jpy</td>\n",
       "      <td>131.4900</td>\n",
       "    </tr>\n",
       "    <tr>\n",
       "      <th>22038</th>\n",
       "      <td>2023-03-28</td>\n",
       "      <td>usd_to_jpy</td>\n",
       "      <td>130.9700</td>\n",
       "    </tr>\n",
       "    <tr>\n",
       "      <th>22039</th>\n",
       "      <td>2023-03-29</td>\n",
       "      <td>usd_to_jpy</td>\n",
       "      <td>132.6900</td>\n",
       "    </tr>\n",
       "    <tr>\n",
       "      <th>22040</th>\n",
       "      <td>2023-03-30</td>\n",
       "      <td>usd_to_jpy</td>\n",
       "      <td>132.7100</td>\n",
       "    </tr>\n",
       "    <tr>\n",
       "      <th>22041</th>\n",
       "      <td>2023-03-31</td>\n",
       "      <td>usd_to_jpy</td>\n",
       "      <td>132.7500</td>\n",
       "    </tr>\n",
       "  </tbody>\n",
       "</table>\n",
       "<p>22042 rows × 3 columns</p>\n",
       "</div>"
      ],
      "text/plain": [
       "            date        type  exchange_rate\n",
       "0     1981-01-02  usd_to_rmb         1.5341\n",
       "1     1981-01-05  usd_to_rmb         1.5418\n",
       "2     1981-01-06  usd_to_rmb         1.5264\n",
       "3     1981-01-07  usd_to_rmb         1.5264\n",
       "4     1981-01-08  usd_to_rmb         1.5264\n",
       "...          ...         ...            ...\n",
       "22037 2023-03-27  usd_to_jpy       131.4900\n",
       "22038 2023-03-28  usd_to_jpy       130.9700\n",
       "22039 2023-03-29  usd_to_jpy       132.6900\n",
       "22040 2023-03-30  usd_to_jpy       132.7100\n",
       "22041 2023-03-31  usd_to_jpy       132.7500\n",
       "\n",
       "[22042 rows x 3 columns]"
      ]
     },
     "execution_count": 14,
     "metadata": {},
     "output_type": "execute_result"
    }
   ],
   "source": [
    "# Write your own code\n",
    "\n",
    "long_format = pd.melt(exchangerates, var_name='type', value_name='exchange_rate', id_vars=['date'], value_vars=['usd_to_rmb', 'usd_to_jpy'])\n",
    "\n",
    "\n",
    "\n",
    "long_format "
   ]
  }
 ],
 "metadata": {
  "kernelspec": {
   "display_name": "base",
   "language": "python",
   "name": "python3"
  },
  "language_info": {
   "codemirror_mode": {
    "name": "ipython",
    "version": 3
   },
   "file_extension": ".py",
   "mimetype": "text/x-python",
   "name": "python",
   "nbconvert_exporter": "python",
   "pygments_lexer": "ipython3",
   "version": "3.9.12"
  },
  "orig_nbformat": 4,
  "vscode": {
   "interpreter": {
    "hash": "45fc1f684f6f416f40889115beff3ddf69879b64cf4bfee48cb72a61e9d15d1a"
   }
  }
 },
 "nbformat": 4,
 "nbformat_minor": 2
}
