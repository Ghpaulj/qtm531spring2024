{
 "cells": [
  {
   "cell_type": "markdown",
   "metadata": {},
   "source": [
    "# QTM 531 Assignment 1\n",
    "# Haojie Ge\n",
    "# 02/07"
   ]
  },
  {
   "cell_type": "markdown",
   "metadata": {},
   "source": [
    "### Before started"
   ]
  },
  {
   "cell_type": "markdown",
   "metadata": {},
   "source": [
    "First of all, we need to import necessary packages"
   ]
  },
  {
   "cell_type": "code",
   "execution_count": 4,
   "metadata": {},
   "outputs": [],
   "source": [
    "import pandas as pd"
   ]
  },
  {
   "cell_type": "markdown",
   "metadata": {},
   "source": [
    "### Question A: \n",
    "### Which three constructors had the highest number of total points between 1981 and 2020? How many total points did each of them get? How do the total number of points for each constructor compare to the average across constructors?"
   ]
  },
  {
   "cell_type": "markdown",
   "metadata": {},
   "source": [
    "Then we need to load the dataset we need"
   ]
  },
  {
   "cell_type": "code",
   "execution_count": 21,
   "metadata": {},
   "outputs": [],
   "source": [
    "# Load datasets\n",
    "constructors = pd.read_csv('/Users/gehaojie/Documents/GitHub/qtm531spring2024/Lecture 03/data_raw/constructors.csv')\n",
    "constructor_results = pd.read_csv('/Users/gehaojie/Documents/GitHub/qtm531spring2024/Lecture 03/data_raw/constructor_results.csv')\n",
    "races = pd.read_csv('/Users/gehaojie/Documents/GitHub/qtm531spring2024/Lecture 03/data_raw/races.csv')"
   ]
  },
  {
   "cell_type": "markdown",
   "metadata": {},
   "source": [
    "Then we want to merge constructor standings with races and filtered by year"
   ]
  },
  {
   "cell_type": "code",
   "execution_count": 10,
   "metadata": {},
   "outputs": [
    {
     "data": {
      "text/html": [
       "<div>\n",
       "<style scoped>\n",
       "    .dataframe tbody tr th:only-of-type {\n",
       "        vertical-align: middle;\n",
       "    }\n",
       "\n",
       "    .dataframe tbody tr th {\n",
       "        vertical-align: top;\n",
       "    }\n",
       "\n",
       "    .dataframe thead th {\n",
       "        text-align: right;\n",
       "    }\n",
       "</style>\n",
       "<table border=\"1\" class=\"dataframe\">\n",
       "  <thead>\n",
       "    <tr style=\"text-align: right;\">\n",
       "      <th></th>\n",
       "      <th>raceId</th>\n",
       "      <th>year</th>\n",
       "      <th>round</th>\n",
       "      <th>circuitId</th>\n",
       "      <th>name</th>\n",
       "      <th>date</th>\n",
       "      <th>time</th>\n",
       "      <th>url</th>\n",
       "      <th>fp1_date</th>\n",
       "      <th>fp1_time</th>\n",
       "      <th>fp2_date</th>\n",
       "      <th>fp2_time</th>\n",
       "      <th>fp3_date</th>\n",
       "      <th>fp3_time</th>\n",
       "      <th>quali_date</th>\n",
       "      <th>quali_time</th>\n",
       "      <th>sprint_date</th>\n",
       "      <th>sprint_time</th>\n",
       "    </tr>\n",
       "  </thead>\n",
       "  <tbody>\n",
       "    <tr>\n",
       "      <th>0</th>\n",
       "      <td>1</td>\n",
       "      <td>2009</td>\n",
       "      <td>1</td>\n",
       "      <td>1</td>\n",
       "      <td>Australian Grand Prix</td>\n",
       "      <td>2009-03-29</td>\n",
       "      <td>06:00:00</td>\n",
       "      <td>http://en.wikipedia.org/wiki/2009_Australian_G...</td>\n",
       "      <td>\\N</td>\n",
       "      <td>\\N</td>\n",
       "      <td>\\N</td>\n",
       "      <td>\\N</td>\n",
       "      <td>\\N</td>\n",
       "      <td>\\N</td>\n",
       "      <td>\\N</td>\n",
       "      <td>\\N</td>\n",
       "      <td>\\N</td>\n",
       "      <td>\\N</td>\n",
       "    </tr>\n",
       "    <tr>\n",
       "      <th>1</th>\n",
       "      <td>2</td>\n",
       "      <td>2009</td>\n",
       "      <td>2</td>\n",
       "      <td>2</td>\n",
       "      <td>Malaysian Grand Prix</td>\n",
       "      <td>2009-04-05</td>\n",
       "      <td>09:00:00</td>\n",
       "      <td>http://en.wikipedia.org/wiki/2009_Malaysian_Gr...</td>\n",
       "      <td>\\N</td>\n",
       "      <td>\\N</td>\n",
       "      <td>\\N</td>\n",
       "      <td>\\N</td>\n",
       "      <td>\\N</td>\n",
       "      <td>\\N</td>\n",
       "      <td>\\N</td>\n",
       "      <td>\\N</td>\n",
       "      <td>\\N</td>\n",
       "      <td>\\N</td>\n",
       "    </tr>\n",
       "    <tr>\n",
       "      <th>2</th>\n",
       "      <td>3</td>\n",
       "      <td>2009</td>\n",
       "      <td>3</td>\n",
       "      <td>17</td>\n",
       "      <td>Chinese Grand Prix</td>\n",
       "      <td>2009-04-19</td>\n",
       "      <td>07:00:00</td>\n",
       "      <td>http://en.wikipedia.org/wiki/2009_Chinese_Gran...</td>\n",
       "      <td>\\N</td>\n",
       "      <td>\\N</td>\n",
       "      <td>\\N</td>\n",
       "      <td>\\N</td>\n",
       "      <td>\\N</td>\n",
       "      <td>\\N</td>\n",
       "      <td>\\N</td>\n",
       "      <td>\\N</td>\n",
       "      <td>\\N</td>\n",
       "      <td>\\N</td>\n",
       "    </tr>\n",
       "    <tr>\n",
       "      <th>3</th>\n",
       "      <td>4</td>\n",
       "      <td>2009</td>\n",
       "      <td>4</td>\n",
       "      <td>3</td>\n",
       "      <td>Bahrain Grand Prix</td>\n",
       "      <td>2009-04-26</td>\n",
       "      <td>12:00:00</td>\n",
       "      <td>http://en.wikipedia.org/wiki/2009_Bahrain_Gran...</td>\n",
       "      <td>\\N</td>\n",
       "      <td>\\N</td>\n",
       "      <td>\\N</td>\n",
       "      <td>\\N</td>\n",
       "      <td>\\N</td>\n",
       "      <td>\\N</td>\n",
       "      <td>\\N</td>\n",
       "      <td>\\N</td>\n",
       "      <td>\\N</td>\n",
       "      <td>\\N</td>\n",
       "    </tr>\n",
       "    <tr>\n",
       "      <th>4</th>\n",
       "      <td>5</td>\n",
       "      <td>2009</td>\n",
       "      <td>5</td>\n",
       "      <td>4</td>\n",
       "      <td>Spanish Grand Prix</td>\n",
       "      <td>2009-05-10</td>\n",
       "      <td>12:00:00</td>\n",
       "      <td>http://en.wikipedia.org/wiki/2009_Spanish_Gran...</td>\n",
       "      <td>\\N</td>\n",
       "      <td>\\N</td>\n",
       "      <td>\\N</td>\n",
       "      <td>\\N</td>\n",
       "      <td>\\N</td>\n",
       "      <td>\\N</td>\n",
       "      <td>\\N</td>\n",
       "      <td>\\N</td>\n",
       "      <td>\\N</td>\n",
       "      <td>\\N</td>\n",
       "    </tr>\n",
       "    <tr>\n",
       "      <th>...</th>\n",
       "      <td>...</td>\n",
       "      <td>...</td>\n",
       "      <td>...</td>\n",
       "      <td>...</td>\n",
       "      <td>...</td>\n",
       "      <td>...</td>\n",
       "      <td>...</td>\n",
       "      <td>...</td>\n",
       "      <td>...</td>\n",
       "      <td>...</td>\n",
       "      <td>...</td>\n",
       "      <td>...</td>\n",
       "      <td>...</td>\n",
       "      <td>...</td>\n",
       "      <td>...</td>\n",
       "      <td>...</td>\n",
       "      <td>...</td>\n",
       "      <td>...</td>\n",
       "    </tr>\n",
       "    <tr>\n",
       "      <th>1097</th>\n",
       "      <td>1116</td>\n",
       "      <td>2023</td>\n",
       "      <td>19</td>\n",
       "      <td>69</td>\n",
       "      <td>United States Grand Prix</td>\n",
       "      <td>2023-10-22</td>\n",
       "      <td>19:00:00</td>\n",
       "      <td>https://en.wikipedia.org/wiki/2023_United_Stat...</td>\n",
       "      <td>2023-10-20</td>\n",
       "      <td>17:30:00</td>\n",
       "      <td>2023-10-21</td>\n",
       "      <td>18:00:00</td>\n",
       "      <td>\\N</td>\n",
       "      <td>\\N</td>\n",
       "      <td>2023-10-20</td>\n",
       "      <td>21:00:00</td>\n",
       "      <td>2023-10-21</td>\n",
       "      <td>22:00:00</td>\n",
       "    </tr>\n",
       "    <tr>\n",
       "      <th>1098</th>\n",
       "      <td>1117</td>\n",
       "      <td>2023</td>\n",
       "      <td>20</td>\n",
       "      <td>32</td>\n",
       "      <td>Mexico City Grand Prix</td>\n",
       "      <td>2023-10-29</td>\n",
       "      <td>20:00:00</td>\n",
       "      <td>https://en.wikipedia.org/wiki/2023_Mexico_City...</td>\n",
       "      <td>2023-10-27</td>\n",
       "      <td>18:30:00</td>\n",
       "      <td>2023-10-27</td>\n",
       "      <td>22:00:00</td>\n",
       "      <td>2023-10-28</td>\n",
       "      <td>17:30:00</td>\n",
       "      <td>2023-10-28</td>\n",
       "      <td>21:00:00</td>\n",
       "      <td>\\N</td>\n",
       "      <td>\\N</td>\n",
       "    </tr>\n",
       "    <tr>\n",
       "      <th>1099</th>\n",
       "      <td>1118</td>\n",
       "      <td>2023</td>\n",
       "      <td>21</td>\n",
       "      <td>18</td>\n",
       "      <td>São Paulo Grand Prix</td>\n",
       "      <td>2023-11-05</td>\n",
       "      <td>17:00:00</td>\n",
       "      <td>https://en.wikipedia.org/wiki/2023_S%C3%A3o_Pa...</td>\n",
       "      <td>2023-11-03</td>\n",
       "      <td>14:30:00</td>\n",
       "      <td>2023-11-04</td>\n",
       "      <td>14:30:00</td>\n",
       "      <td>\\N</td>\n",
       "      <td>\\N</td>\n",
       "      <td>2023-11-03</td>\n",
       "      <td>18:00:00</td>\n",
       "      <td>2023-11-04</td>\n",
       "      <td>18:30:00</td>\n",
       "    </tr>\n",
       "    <tr>\n",
       "      <th>1100</th>\n",
       "      <td>1119</td>\n",
       "      <td>2023</td>\n",
       "      <td>22</td>\n",
       "      <td>80</td>\n",
       "      <td>Las Vegas Grand Prix</td>\n",
       "      <td>2023-11-19</td>\n",
       "      <td>06:00:00</td>\n",
       "      <td>https://en.wikipedia.org/wiki/2023_Las_Vegas_G...</td>\n",
       "      <td>2023-11-17</td>\n",
       "      <td>04:30:00</td>\n",
       "      <td>2023-11-17</td>\n",
       "      <td>08:00:00</td>\n",
       "      <td>2023-11-18</td>\n",
       "      <td>04:30:00</td>\n",
       "      <td>2023-11-18</td>\n",
       "      <td>08:00:00</td>\n",
       "      <td>\\N</td>\n",
       "      <td>\\N</td>\n",
       "    </tr>\n",
       "    <tr>\n",
       "      <th>1101</th>\n",
       "      <td>1120</td>\n",
       "      <td>2023</td>\n",
       "      <td>23</td>\n",
       "      <td>24</td>\n",
       "      <td>Abu Dhabi Grand Prix</td>\n",
       "      <td>2023-11-26</td>\n",
       "      <td>13:00:00</td>\n",
       "      <td>https://en.wikipedia.org/wiki/2023_Abu_Dhabi_G...</td>\n",
       "      <td>2023-11-24</td>\n",
       "      <td>09:30:00</td>\n",
       "      <td>2023-11-24</td>\n",
       "      <td>13:00:00</td>\n",
       "      <td>2023-11-25</td>\n",
       "      <td>10:30:00</td>\n",
       "      <td>2023-11-25</td>\n",
       "      <td>14:00:00</td>\n",
       "      <td>\\N</td>\n",
       "      <td>\\N</td>\n",
       "    </tr>\n",
       "  </tbody>\n",
       "</table>\n",
       "<p>1102 rows × 18 columns</p>\n",
       "</div>"
      ],
      "text/plain": [
       "      raceId  year  round  circuitId                      name        date  \\\n",
       "0          1  2009      1          1     Australian Grand Prix  2009-03-29   \n",
       "1          2  2009      2          2      Malaysian Grand Prix  2009-04-05   \n",
       "2          3  2009      3         17        Chinese Grand Prix  2009-04-19   \n",
       "3          4  2009      4          3        Bahrain Grand Prix  2009-04-26   \n",
       "4          5  2009      5          4        Spanish Grand Prix  2009-05-10   \n",
       "...      ...   ...    ...        ...                       ...         ...   \n",
       "1097    1116  2023     19         69  United States Grand Prix  2023-10-22   \n",
       "1098    1117  2023     20         32    Mexico City Grand Prix  2023-10-29   \n",
       "1099    1118  2023     21         18      São Paulo Grand Prix  2023-11-05   \n",
       "1100    1119  2023     22         80      Las Vegas Grand Prix  2023-11-19   \n",
       "1101    1120  2023     23         24      Abu Dhabi Grand Prix  2023-11-26   \n",
       "\n",
       "          time                                                url    fp1_date  \\\n",
       "0     06:00:00  http://en.wikipedia.org/wiki/2009_Australian_G...          \\N   \n",
       "1     09:00:00  http://en.wikipedia.org/wiki/2009_Malaysian_Gr...          \\N   \n",
       "2     07:00:00  http://en.wikipedia.org/wiki/2009_Chinese_Gran...          \\N   \n",
       "3     12:00:00  http://en.wikipedia.org/wiki/2009_Bahrain_Gran...          \\N   \n",
       "4     12:00:00  http://en.wikipedia.org/wiki/2009_Spanish_Gran...          \\N   \n",
       "...        ...                                                ...         ...   \n",
       "1097  19:00:00  https://en.wikipedia.org/wiki/2023_United_Stat...  2023-10-20   \n",
       "1098  20:00:00  https://en.wikipedia.org/wiki/2023_Mexico_City...  2023-10-27   \n",
       "1099  17:00:00  https://en.wikipedia.org/wiki/2023_S%C3%A3o_Pa...  2023-11-03   \n",
       "1100  06:00:00  https://en.wikipedia.org/wiki/2023_Las_Vegas_G...  2023-11-17   \n",
       "1101  13:00:00  https://en.wikipedia.org/wiki/2023_Abu_Dhabi_G...  2023-11-24   \n",
       "\n",
       "      fp1_time    fp2_date  fp2_time    fp3_date  fp3_time  quali_date  \\\n",
       "0           \\N          \\N        \\N          \\N        \\N          \\N   \n",
       "1           \\N          \\N        \\N          \\N        \\N          \\N   \n",
       "2           \\N          \\N        \\N          \\N        \\N          \\N   \n",
       "3           \\N          \\N        \\N          \\N        \\N          \\N   \n",
       "4           \\N          \\N        \\N          \\N        \\N          \\N   \n",
       "...        ...         ...       ...         ...       ...         ...   \n",
       "1097  17:30:00  2023-10-21  18:00:00          \\N        \\N  2023-10-20   \n",
       "1098  18:30:00  2023-10-27  22:00:00  2023-10-28  17:30:00  2023-10-28   \n",
       "1099  14:30:00  2023-11-04  14:30:00          \\N        \\N  2023-11-03   \n",
       "1100  04:30:00  2023-11-17  08:00:00  2023-11-18  04:30:00  2023-11-18   \n",
       "1101  09:30:00  2023-11-24  13:00:00  2023-11-25  10:30:00  2023-11-25   \n",
       "\n",
       "     quali_time sprint_date sprint_time  \n",
       "0            \\N          \\N          \\N  \n",
       "1            \\N          \\N          \\N  \n",
       "2            \\N          \\N          \\N  \n",
       "3            \\N          \\N          \\N  \n",
       "4            \\N          \\N          \\N  \n",
       "...         ...         ...         ...  \n",
       "1097   21:00:00  2023-10-21    22:00:00  \n",
       "1098   21:00:00          \\N          \\N  \n",
       "1099   18:00:00  2023-11-04    18:30:00  \n",
       "1100   08:00:00          \\N          \\N  \n",
       "1101   14:00:00          \\N          \\N  \n",
       "\n",
       "[1102 rows x 18 columns]"
      ]
     },
     "execution_count": 10,
     "metadata": {},
     "output_type": "execute_result"
    }
   ],
   "source": [
    "races"
   ]
  },
  {
   "cell_type": "code",
   "execution_count": 22,
   "metadata": {},
   "outputs": [
    {
     "data": {
      "text/html": [
       "<div>\n",
       "<style scoped>\n",
       "    .dataframe tbody tr th:only-of-type {\n",
       "        vertical-align: middle;\n",
       "    }\n",
       "\n",
       "    .dataframe tbody tr th {\n",
       "        vertical-align: top;\n",
       "    }\n",
       "\n",
       "    .dataframe thead th {\n",
       "        text-align: right;\n",
       "    }\n",
       "</style>\n",
       "<table border=\"1\" class=\"dataframe\">\n",
       "  <thead>\n",
       "    <tr style=\"text-align: right;\">\n",
       "      <th></th>\n",
       "      <th>constructorResultsId</th>\n",
       "      <th>raceId</th>\n",
       "      <th>constructorId</th>\n",
       "      <th>points</th>\n",
       "      <th>status</th>\n",
       "    </tr>\n",
       "  </thead>\n",
       "  <tbody>\n",
       "    <tr>\n",
       "      <th>0</th>\n",
       "      <td>1</td>\n",
       "      <td>18</td>\n",
       "      <td>1</td>\n",
       "      <td>14.0</td>\n",
       "      <td>\\N</td>\n",
       "    </tr>\n",
       "    <tr>\n",
       "      <th>1</th>\n",
       "      <td>2</td>\n",
       "      <td>18</td>\n",
       "      <td>2</td>\n",
       "      <td>8.0</td>\n",
       "      <td>\\N</td>\n",
       "    </tr>\n",
       "    <tr>\n",
       "      <th>2</th>\n",
       "      <td>3</td>\n",
       "      <td>18</td>\n",
       "      <td>3</td>\n",
       "      <td>9.0</td>\n",
       "      <td>\\N</td>\n",
       "    </tr>\n",
       "    <tr>\n",
       "      <th>3</th>\n",
       "      <td>4</td>\n",
       "      <td>18</td>\n",
       "      <td>4</td>\n",
       "      <td>5.0</td>\n",
       "      <td>\\N</td>\n",
       "    </tr>\n",
       "    <tr>\n",
       "      <th>4</th>\n",
       "      <td>5</td>\n",
       "      <td>18</td>\n",
       "      <td>5</td>\n",
       "      <td>2.0</td>\n",
       "      <td>\\N</td>\n",
       "    </tr>\n",
       "    <tr>\n",
       "      <th>...</th>\n",
       "      <td>...</td>\n",
       "      <td>...</td>\n",
       "      <td>...</td>\n",
       "      <td>...</td>\n",
       "      <td>...</td>\n",
       "    </tr>\n",
       "    <tr>\n",
       "      <th>12165</th>\n",
       "      <td>16665</td>\n",
       "      <td>1096</td>\n",
       "      <td>117</td>\n",
       "      <td>5.0</td>\n",
       "      <td>\\N</td>\n",
       "    </tr>\n",
       "    <tr>\n",
       "      <th>12166</th>\n",
       "      <td>16666</td>\n",
       "      <td>1096</td>\n",
       "      <td>213</td>\n",
       "      <td>0.0</td>\n",
       "      <td>\\N</td>\n",
       "    </tr>\n",
       "    <tr>\n",
       "      <th>12167</th>\n",
       "      <td>16667</td>\n",
       "      <td>1096</td>\n",
       "      <td>51</td>\n",
       "      <td>0.0</td>\n",
       "      <td>\\N</td>\n",
       "    </tr>\n",
       "    <tr>\n",
       "      <th>12168</th>\n",
       "      <td>16668</td>\n",
       "      <td>1096</td>\n",
       "      <td>3</td>\n",
       "      <td>0.0</td>\n",
       "      <td>\\N</td>\n",
       "    </tr>\n",
       "    <tr>\n",
       "      <th>12169</th>\n",
       "      <td>16669</td>\n",
       "      <td>1096</td>\n",
       "      <td>210</td>\n",
       "      <td>0.0</td>\n",
       "      <td>\\N</td>\n",
       "    </tr>\n",
       "  </tbody>\n",
       "</table>\n",
       "<p>12170 rows × 5 columns</p>\n",
       "</div>"
      ],
      "text/plain": [
       "       constructorResultsId  raceId  constructorId  points status\n",
       "0                         1      18              1    14.0     \\N\n",
       "1                         2      18              2     8.0     \\N\n",
       "2                         3      18              3     9.0     \\N\n",
       "3                         4      18              4     5.0     \\N\n",
       "4                         5      18              5     2.0     \\N\n",
       "...                     ...     ...            ...     ...    ...\n",
       "12165                 16665    1096            117     5.0     \\N\n",
       "12166                 16666    1096            213     0.0     \\N\n",
       "12167                 16667    1096             51     0.0     \\N\n",
       "12168                 16668    1096              3     0.0     \\N\n",
       "12169                 16669    1096            210     0.0     \\N\n",
       "\n",
       "[12170 rows x 5 columns]"
      ]
     },
     "execution_count": 22,
     "metadata": {},
     "output_type": "execute_result"
    }
   ],
   "source": [
    "constructor_results"
   ]
  },
  {
   "cell_type": "code",
   "execution_count": 23,
   "metadata": {},
   "outputs": [],
   "source": [
    "# Filter races for the years 1981-2020\n",
    "filtered_races = races[(races['year'] >= 1981) & (races['year'] <= 2020)]"
   ]
  },
  {
   "cell_type": "code",
   "execution_count": 24,
   "metadata": {},
   "outputs": [],
   "source": [
    "# Aggregate points for each constructor based on the filtered races\n",
    "aggregated_points = constructor_results[constructor_results['raceId'].isin(filtered_races['raceId'])] \\\n",
    "    .groupby('constructorId') \\\n",
    "    .agg({'points': 'sum'}) \\\n",
    "    .reset_index()"
   ]
  },
  {
   "cell_type": "code",
   "execution_count": 29,
   "metadata": {},
   "outputs": [],
   "source": [
    "# Enhance the dataset by merging constructor names\n",
    "aggregated_points_with_names = pd.merge(aggregated_points, constructors[['constructorId', 'name']], on='constructorId')"
   ]
  },
  {
   "cell_type": "markdown",
   "metadata": {},
   "source": [
    "Now we want to make sure there is no NA value in our new dataset"
   ]
  },
  {
   "cell_type": "code",
   "execution_count": 30,
   "metadata": {},
   "outputs": [
    {
     "data": {
      "text/html": [
       "<div>\n",
       "<style scoped>\n",
       "    .dataframe tbody tr th:only-of-type {\n",
       "        vertical-align: middle;\n",
       "    }\n",
       "\n",
       "    .dataframe tbody tr th {\n",
       "        vertical-align: top;\n",
       "    }\n",
       "\n",
       "    .dataframe thead th {\n",
       "        text-align: right;\n",
       "    }\n",
       "</style>\n",
       "<table border=\"1\" class=\"dataframe\">\n",
       "  <thead>\n",
       "    <tr style=\"text-align: right;\">\n",
       "      <th></th>\n",
       "      <th>constructorId</th>\n",
       "      <th>points</th>\n",
       "      <th>name</th>\n",
       "    </tr>\n",
       "  </thead>\n",
       "  <tbody>\n",
       "    <tr>\n",
       "      <th>0</th>\n",
       "      <td>1</td>\n",
       "      <td>5229.5</td>\n",
       "      <td>McLaren</td>\n",
       "    </tr>\n",
       "    <tr>\n",
       "      <th>1</th>\n",
       "      <td>2</td>\n",
       "      <td>308.0</td>\n",
       "      <td>BMW Sauber</td>\n",
       "    </tr>\n",
       "    <tr>\n",
       "      <th>2</th>\n",
       "      <td>3</td>\n",
       "      <td>3355.0</td>\n",
       "      <td>Williams</td>\n",
       "    </tr>\n",
       "    <tr>\n",
       "      <th>3</th>\n",
       "      <td>4</td>\n",
       "      <td>1710.0</td>\n",
       "      <td>Renault</td>\n",
       "    </tr>\n",
       "    <tr>\n",
       "      <th>4</th>\n",
       "      <td>5</td>\n",
       "      <td>500.0</td>\n",
       "      <td>Toro Rosso</td>\n",
       "    </tr>\n",
       "    <tr>\n",
       "      <th>...</th>\n",
       "      <td>...</td>\n",
       "      <td>...</td>\n",
       "      <td>...</td>\n",
       "    </tr>\n",
       "    <tr>\n",
       "      <th>62</th>\n",
       "      <td>208</td>\n",
       "      <td>706.0</td>\n",
       "      <td>Lotus F1</td>\n",
       "    </tr>\n",
       "    <tr>\n",
       "      <th>63</th>\n",
       "      <td>209</td>\n",
       "      <td>1.0</td>\n",
       "      <td>Manor Marussia</td>\n",
       "    </tr>\n",
       "    <tr>\n",
       "      <th>64</th>\n",
       "      <td>210</td>\n",
       "      <td>200.0</td>\n",
       "      <td>Haas F1 Team</td>\n",
       "    </tr>\n",
       "    <tr>\n",
       "      <th>65</th>\n",
       "      <td>211</td>\n",
       "      <td>283.0</td>\n",
       "      <td>Racing Point</td>\n",
       "    </tr>\n",
       "    <tr>\n",
       "      <th>66</th>\n",
       "      <td>213</td>\n",
       "      <td>107.0</td>\n",
       "      <td>AlphaTauri</td>\n",
       "    </tr>\n",
       "  </tbody>\n",
       "</table>\n",
       "<p>67 rows × 3 columns</p>\n",
       "</div>"
      ],
      "text/plain": [
       "    constructorId  points            name\n",
       "0               1  5229.5         McLaren\n",
       "1               2   308.0      BMW Sauber\n",
       "2               3  3355.0        Williams\n",
       "3               4  1710.0         Renault\n",
       "4               5   500.0      Toro Rosso\n",
       "..            ...     ...             ...\n",
       "62            208   706.0        Lotus F1\n",
       "63            209     1.0  Manor Marussia\n",
       "64            210   200.0    Haas F1 Team\n",
       "65            211   283.0    Racing Point\n",
       "66            213   107.0      AlphaTauri\n",
       "\n",
       "[67 rows x 3 columns]"
      ]
     },
     "execution_count": 30,
     "metadata": {},
     "output_type": "execute_result"
    }
   ],
   "source": [
    "# \"list_old\" encodes values we want to change\n",
    "# \"list_new\" encodes the values that will \"replace\" the old\n",
    "list_old = ['\\\\N']\n",
    "list_new = [-1]\n",
    "\n",
    "# This command replaces the values of NA\n",
    "aggregated_points_with_names = aggregated_points_with_names.replace(list_old, list_new)"
   ]
  },
  {
   "cell_type": "code",
   "execution_count": 31,
   "metadata": {},
   "outputs": [],
   "source": [
    "# Identify the top three constructors based on total points\n",
    "top_three_constructors = aggregated_points_with_names.sort_values(by='points', ascending=False).head(3)"
   ]
  },
  {
   "cell_type": "code",
   "execution_count": 32,
   "metadata": {},
   "outputs": [],
   "source": [
    "# Calculate the average points for additional comparison\n",
    "average_points = aggregated_points['points'].mean()"
   ]
  },
  {
   "cell_type": "code",
   "execution_count": 33,
   "metadata": {},
   "outputs": [
    {
     "name": "stdout",
     "output_type": "stream",
     "text": [
      "    constructorId  points      name\n",
      "5               6  7374.0   Ferrari\n",
      "56            131  5685.0  Mercedes\n",
      "0               1  5229.5   McLaren\n",
      "Average points across all constructors: 532.24\n"
     ]
    }
   ],
   "source": [
    "# Print the results\n",
    "print(top_three_constructors)\n",
    "print(f\"Average points across all constructors: {average_points:.2f}\")"
   ]
  },
  {
   "cell_type": "markdown",
   "metadata": {},
   "source": [
    "So we can see that Ferrari, Mercedes, Red Bull had the highest number of total points between 1981 and 2020\n",
    "\n",
    "Ferrari got 7374, Mercedes got 5685, McLaren got 5229.5\n",
    "\n",
    "The average point for all constructors is about 532. For the top 3 constructors, they all have about 10 time higher points compared with the average"
   ]
  },
  {
   "cell_type": "code",
   "execution_count": 36,
   "metadata": {},
   "outputs": [
    {
     "data": {
      "image/png": "[encoded data removed]",
      "text/plain": [
       "<Figure size 1008x576 with 1 Axes>"
      ]
     },
     "metadata": {
      "needs_background": "light"
     },
     "output_type": "display_data"
    }
   ],
   "source": [
    "import matplotlib.pyplot as plt\n",
    "\n",
    "# Assuming the necessary datasets have already been loaded and merged as per previous steps\n",
    "\n",
    "# Recalculating top 10 constructors using the correct approach for part a\n",
    "top_10_constructors_1981_2020 = (\n",
    "    constructor_results[constructor_results['raceId'].isin(filtered_races['raceId'])]\n",
    "    .groupby('constructorId')['points'].sum()\n",
    "    .reset_index()\n",
    "    .merge(constructors[['constructorId', 'name']], on='constructorId')\n",
    "    .sort_values(by='points', ascending=False)\n",
    "    .head(10)  # Select top 10 constructors\n",
    ")\n",
    "\n",
    "# Plotting the top 10 constructors\n",
    "plt.figure(figsize=(14, 8))\n",
    "plt.bar(top_10_constructors_1981_2020['name'], top_10_constructors_1981_2020['points'], color='purple')\n",
    "plt.title('Top 10 Constructors 1981-2020')\n",
    "plt.xticks(rotation=45, ha='right')\n",
    "plt.ylabel('Total Points')\n",
    "plt.xlabel('Constructors')\n",
    "plt.grid(True, which='both', linestyle='--', linewidth=0.5)\n",
    "plt.tight_layout()  # Adjust layout to make room for the rotated x-axis labels\n",
    "plt.show()\n"
   ]
  },
  {
   "cell_type": "markdown",
   "metadata": {},
   "source": [
    "### Question B\n",
    "### Which three constructors had the highest number of total points between 2001 and 2020? How many total points did each of them get? How do the total number of points for each constructor compare to the average across constructors?"
   ]
  },
  {
   "cell_type": "code",
   "execution_count": 37,
   "metadata": {},
   "outputs": [],
   "source": [
    "# Filter races for the years 2001-2020\n",
    "filtered_races1 = races[(races['year'] >= 2001) & (races['year'] <= 2020)]"
   ]
  },
  {
   "cell_type": "code",
   "execution_count": 38,
   "metadata": {},
   "outputs": [],
   "source": [
    "# Aggregate points for each constructor based on the filtered races\n",
    "aggregated_points1 = constructor_results[constructor_results['raceId'].isin(filtered_races1['raceId'])] \\\n",
    "    .groupby('constructorId') \\\n",
    "    .agg({'points': 'sum'}) \\\n",
    "    .reset_index()"
   ]
  },
  {
   "cell_type": "code",
   "execution_count": 39,
   "metadata": {},
   "outputs": [],
   "source": [
    "# Enhance the dataset by merging constructor names\n",
    "aggregated_points_with_names1 = pd.merge(aggregated_points1, constructors[['constructorId', 'name']], on='constructorId')"
   ]
  },
  {
   "cell_type": "code",
   "execution_count": 40,
   "metadata": {},
   "outputs": [],
   "source": [
    "# \"list_old\" encodes values we want to change\n",
    "# \"list_new\" encodes the values that will \"replace\" the old\n",
    "list_old = ['\\\\N']\n",
    "list_new = [-1]\n",
    "\n",
    "# This command replaces the values of NA\n",
    "aggregated_points_with_names1 = aggregated_points_with_names1.replace(list_old, list_new)"
   ]
  },
  {
   "cell_type": "code",
   "execution_count": 41,
   "metadata": {},
   "outputs": [],
   "source": [
    "# Identify the top three constructors based on total points\n",
    "top_three_constructors1 = aggregated_points_with_names1.sort_values(by='points', ascending=False).head(3)"
   ]
  },
  {
   "cell_type": "code",
   "execution_count": 42,
   "metadata": {},
   "outputs": [],
   "source": [
    "# Calculate the average points for additional comparison\n",
    "average_points1 = aggregated_points1['points'].mean()"
   ]
  },
  {
   "cell_type": "code",
   "execution_count": 43,
   "metadata": {},
   "outputs": [
    {
     "name": "stdout",
     "output_type": "stream",
     "text": [
      "    constructorId  points      name\n",
      "5               6  5862.0   Ferrari\n",
      "24            131  5685.0  Mercedes\n",
      "8               9  5043.5  Red Bull\n",
      "Average points across all constructors: 786.01\n"
     ]
    }
   ],
   "source": [
    "# Print the results\n",
    "print(top_three_constructors1)\n",
    "print(f\"Average points across all constructors: {average_points1:.2f}\")"
   ]
  },
  {
   "cell_type": "markdown",
   "metadata": {},
   "source": [
    "So we can see that Ferrari, Mercedes, Red Bull had the highest number of total points between 2001 and 2020\n",
    "\n",
    "Ferrari got 5862, Mercedes got 5685, Red Bull got 5043.5\n",
    "\n",
    "The average point for all constructors is about 786. For the top 3 constructors, they all have way higher points compared with the average, but compared with the data from 1981 to 2020, we can see that the average points for all constructors increase dramatically."
   ]
  },
  {
   "cell_type": "code",
   "execution_count": 45,
   "metadata": {},
   "outputs": [
    {
     "data": {
      "image/png": "[encoded data removed]",
      "text/plain": [
       "<Figure size 1008x576 with 1 Axes>"
      ]
     },
     "metadata": {
      "needs_background": "light"
     },
     "output_type": "display_data"
    }
   ],
   "source": [
    "import matplotlib.pyplot as plt\n",
    "import pandas as pd\n",
    "\n",
    "# Assuming the necessary datasets have already been loaded and merged as per previous steps\n",
    "\n",
    "# Recalculating top 10 constructors using the correct approach for part a\n",
    "top_10_constructors_2001_2020 = (\n",
    "    constructor_results[constructor_results['raceId'].isin(filtered_races1['raceId'])]\n",
    "    .groupby('constructorId')['points'].sum()\n",
    "    .reset_index()\n",
    "    .merge(constructors[['constructorId', 'name']], on='constructorId')\n",
    "    .sort_values(by='points', ascending=False)\n",
    "    .head(10)  # Select top 10 constructors\n",
    ")\n",
    "\n",
    "# Plotting the top 10 constructors\n",
    "plt.figure(figsize=(14, 8))\n",
    "plt.bar(top_10_constructors_2001_2020['name'], top_10_constructors_2001_2020['points'], color='purple')\n",
    "plt.title('Top 10 Constructors 1981-2020')\n",
    "plt.xticks(rotation=45, ha='right')\n",
    "plt.ylabel('Total Points')\n",
    "plt.xlabel('Constructors')\n",
    "plt.grid(True, which='both', linestyle='--', linewidth=0.5)\n",
    "plt.tight_layout()  # Adjust layout to make room for the rotated x-axis labels\n",
    "plt.show()\n"
   ]
  },
  {
   "cell_type": "markdown",
   "metadata": {},
   "source": [
    "### Question C\n",
    "### How did the rankings change across the two time periods?"
   ]
  },
  {
   "cell_type": "markdown",
   "metadata": {},
   "source": [
    "Base on the data we get, we can see that Ferrari remains the top constructor in both time periods, although the total points difference between the two periods indicates Ferrari's significant portion of points were accrued before 2001.\n",
    "\n",
    "Mercedes maintains its position as the second-highest constructor in both periods. The consistency in their total points indicates that almost all of their points were accrued during the 2001-2020 period.\n",
    "\n",
    "McLaren was the third-highest constructor in 1981-2020 period. While Red Bull became the third-highest constructor during the 2001-2020 period. But according to the graph, we can see that McLaren and Red Bull are having similar total points."
   ]
  },
  {
   "cell_type": "markdown",
   "metadata": {},
   "source": [
    "### Question D\n",
    "### How many different drivers did Ferrari have between 1981 and 2020?"
   ]
  },
  {
   "cell_type": "markdown",
   "metadata": {},
   "source": [
    "For Question D, we need to first import other datasets"
   ]
  },
  {
   "cell_type": "code",
   "execution_count": 44,
   "metadata": {},
   "outputs": [],
   "source": [
    "drivers = pd.read_csv('/Users/gehaojie/Documents/GitHub/qtm531spring2024/Lecture 03/data_raw//drivers.csv')\n",
    "results = pd.read_csv('/Users/gehaojie/Documents/GitHub/qtm531spring2024/Lecture 03/data_raw//results.csv')"
   ]
  },
  {
   "cell_type": "code",
   "execution_count": 50,
   "metadata": {},
   "outputs": [
    {
     "name": "stdout",
     "output_type": "stream",
     "text": [
      "Number of different drivers Ferrari had between 1981 and 2020: 25\n"
     ]
    }
   ],
   "source": [
    "# Merge results with races to filter by year, then \n",
    "result_new = results.merge(races[['raceId', 'year']], on='raceId', how='left')\n",
    "# Then merge with constructors to filter by Ferrari\n",
    "ferrari_results = result_new.merge(constructors[['constructorId', 'name']], left_on='constructorId', right_on='constructorId', how='left')\n",
    "\n",
    "# Filter for Ferrari and the years 1981-2020\n",
    "ferrari_drivers = ferrari_results[(ferrari_results['name'] == 'Ferrari') & (ferrari_results['year'] >= 1981) & (ferrari_results['year'] <= 2020)]\n",
    "\n",
    "# Count the unique drivers for Ferrari\n",
    "ferrari_drivers_count = ferrari_drivers['driverId'].nunique()\n",
    "\n",
    "print(f\"Number of different drivers Ferrari had between 1981 and 2020: {ferrari_drivers_count}\")"
   ]
  },
  {
   "cell_type": "markdown",
   "metadata": {},
   "source": [
    "So we can see that Ferrai has totally 25 different drivers between 1981 and 2020"
   ]
  },
  {
   "cell_type": "markdown",
   "metadata": {},
   "source": [
    "### Question E\n",
    "### What was the best year for Ferrari between 1981 and 2020?"
   ]
  },
  {
   "cell_type": "code",
   "execution_count": 62,
   "metadata": {},
   "outputs": [
    {
     "name": "stdout",
     "output_type": "stream",
     "text": [
      "year\n",
      "2018    571.0\n",
      "Name: points, dtype: float64\n",
      "The best year for Ferrari between 1981 and 2020 was 2018 with 571.0 points.\n"
     ]
    }
   ],
   "source": [
    "# Aggregate total points for Ferrari by year\n",
    "ferrari_points_by_year = ferrari_drivers.groupby('year')['points'].sum()\n",
    "\n",
    "# Identify the year with the highest total points for Ferrari\n",
    "best_year = ferrari_points_by_year[ferrari_points_by_year == ferrari_points_by_year.max()]\n",
    "print(best_year)\n",
    "# Print Result\n",
    "print(f\"The best year for Ferrari between 1981 and 2020 was {best_year.index[0]} with {best_year.values[0]} points.\")\n"
   ]
  },
  {
   "cell_type": "markdown",
   "metadata": {},
   "source": [
    "From the data we can see thar the best year for Ferrari between 1981 and 2020 was year 2018 with 571.0 points."
   ]
  }
 ],
 "metadata": {
  "kernelspec": {
   "display_name": "base",
   "language": "python",
   "name": "python3"
  },
  "language_info": {
   "codemirror_mode": {
    "name": "ipython",
    "version": 3
   },
   "file_extension": ".py",
   "mimetype": "text/x-python",
   "name": "python",
   "nbconvert_exporter": "python",
   "pygments_lexer": "ipython3",
   "version": "3.9.12"
  }
 },
 "nbformat": 4,
 "nbformat_minor": 2
}
