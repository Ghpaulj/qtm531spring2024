{
 "cells": [
  {
   "cell_type": "code",
   "execution_count": null,
   "metadata": {},
   "outputs": [],
   "source": [
    "# Manage datasets\n",
    "import pandas as pd\n",
    "\n",
    "# Work with time data\n",
    "import time "
   ]
  },
  {
   "cell_type": "code",
   "execution_count": 2,
   "metadata": {},
   "outputs": [],
   "source": [
    "# Conduct HTTP requests\n",
    "import requests\n",
    "\n",
    "# Construct tree structure of HTML data\n",
    "import html5lib\n",
    "\n",
    "# Parse HTML data obtained from scraping\n",
    "from bs4 import BeautifulSoup as soup \n"
   ]
  },
  {
   "cell_type": "code",
   "execution_count": 3,
   "metadata": {},
   "outputs": [],
   "source": [
    "# Import webdriver for chrome\n",
    "from webdriver_manager.chrome import ChromeDriverManager\n",
    "\n",
    "# Automate navigating within browser (SELENIUM)\n",
    "#------ Key: Manage keys\n",
    "#------ Select: Obtain features from website\n",
    "#------ WebDriverWait: Add wait times implicitly\n",
    "#------ By: Use common information locator strategies\n",
    "#------ EC and Options: Browser configuration\n",
    "#------ remote.command: Check whether browser is active\n",
    "\n",
    "from selenium import webdriver #to automate the navigating within the browser\n",
    "from selenium.webdriver.common.keys    import Keys\n",
    "from selenium.webdriver.support.ui     import Select\n",
    "from selenium.webdriver.support.ui     import WebDriverWait \n",
    "from selenium.webdriver.common.by      import By\n",
    "from selenium.webdriver.support        import expected_conditions as EC\n",
    "from selenium.webdriver.chrome.options import Options #to use properties of the chrome webbrowser\n",
    "from selenium.webdriver.remote.command import Command # Use to check whether the web driver is active\n"
   ]
  },
  {
   "cell_type": "code",
   "execution_count": 11,
   "metadata": {},
   "outputs": [],
   "source": [
    "base_url = 'https://www.amazon.com/'"
   ]
  },
  {
   "cell_type": "code",
   "execution_count": 12,
   "metadata": {},
   "outputs": [],
   "source": [
    "options = Options()\n",
    "\n",
    "# True hides the navigating of the browser by the scraper,\n",
    "# False shows you the tab/window opening and stuff getting clicked\n",
    "options.headless = False \n",
    "\n",
    "driver = webdriver.Chrome(ChromeDriverManager().install(), options=options)"
   ]
  },
  {
   "cell_type": "code",
   "execution_count": 15,
   "metadata": {},
   "outputs": [],
   "source": [
    "driver.get(base_url)"
   ]
  },
  {
   "cell_type": "code",
   "execution_count": 20,
   "metadata": {},
   "outputs": [
    {
     "data": {
      "text/plain": [
       "106"
      ]
     },
     "execution_count": 20,
     "metadata": {},
     "output_type": "execute_result"
    }
   ],
   "source": [
    "# Extract list of objects\n",
    "list_forms = driver.find_elements_by_class_name('a-list-item')\n",
    "\n",
    "# Count elements\n",
    "len(list_forms)\n"
   ]
  },
  {
   "cell_type": "code",
   "execution_count": 46,
   "metadata": {},
   "outputs": [
    {
     "data": {
      "text/plain": [
       "104"
      ]
     },
     "execution_count": 46,
     "metadata": {},
     "output_type": "execute_result"
    }
   ],
   "source": [
    "# Extract list of objects\n",
    "#list_forms1 = driver.find_elements_by_css_selector('.a-link-normal.s-navigation-item')\n",
    "\n",
    "list_forms1 = driver.find_elements_by_css_selector('.a-list-item .a-link-normal.s-navigation-item')\n",
    "\n",
    "# Count elements\n",
    "len(list_forms1)\n",
    "\n"
   ]
  },
  {
   "cell_type": "code",
   "execution_count": 38,
   "metadata": {},
   "outputs": [
    {
     "data": {
      "text/plain": [
       "'https://www.amazon.com/s?k=python+handbag&ref=sr_nr_p_cosmo_multi_pt_0'"
      ]
     },
     "execution_count": 38,
     "metadata": {},
     "output_type": "execute_result"
    }
   ],
   "source": [
    "list_forms1[0].get_attribute(\"href\")"
   ]
  },
  {
   "cell_type": "code",
   "execution_count": 39,
   "metadata": {},
   "outputs": [
    {
     "data": {
      "text/plain": [
       "'https://www.amazon.com/s?k=python+lock&ref=sr_nr_p_cosmo_multi_pt_1'"
      ]
     },
     "execution_count": 39,
     "metadata": {},
     "output_type": "execute_result"
    }
   ],
   "source": [
    "list_forms1[1].get_attribute(\"href\")"
   ]
  },
  {
   "cell_type": "code",
   "execution_count": 44,
   "metadata": {},
   "outputs": [
    {
     "name": "stdout",
     "output_type": "stream",
     "text": [
      "['https://www.amazon.com/s?k=python+handbag&ref=sr_nr_p_cosmo_multi_pt_0', 'https://www.amazon.com/s?k=python+lock&ref=sr_nr_p_cosmo_multi_pt_1', 'https://www.amazon.com/s?k=python+book&ref=sr_nr_p_cosmo_multi_pt_2', 'https://www.amazon.com/s?k=python+telescope&ref=sr_nr_p_cosmo_multi_pt_3', 'https://www.amazon.com/s?k=python+skin+moisturizer&ref=sr_nr_p_cosmo_multi_pt_4', 'https://www.amazon.com/s?k=python+security+camera&ref=sr_nr_p_cosmo_multi_pt_5', 'https://www.amazon.com/s?k=python+remote+control&ref=sr_nr_p_cosmo_multi_pt_6', 'https://www.amazon.com/s?k=python+car+alarm&ref=sr_nr_p_cosmo_multi_pt_7', 'https://www.amazon.com/s?k=python+nutritional+supplement&ref=sr_nr_p_cosmo_multi_pt_8', 'https://www.amazon.com/s?k=python+gun+grip&ref=sr_nr_p_cosmo_multi_pt_9', 'https://www.amazon.com/s?k=python+exercise+band&ref=sr_nr_p_cosmo_multi_pt_10', 'https://www.amazon.com/s?k=python+protective+glove&ref=sr_nr_p_cosmo_multi_pt_11', 'https://www.amazon.com/s?k=python+activity+ball&ref=sr_nr_p_cosmo_multi_pt_12', 'https://www.amazon.com/s?k=python+toy+figure&ref=sr_nr_p_cosmo_multi_pt_13', 'https://www.amazon.com/s?k=python+digital+movie&ref=sr_nr_p_cosmo_multi_pt_14', 'https://www.amazon.com/s?k=python+utility+holster+pouch&ref=sr_nr_p_cosmo_multi_pt_15', 'https://www.amazon.com/s?k=python+hair+clip&ref=sr_nr_p_cosmo_multi_pt_16', 'https://www.amazon.com/s?k=python&rh=n%3A283155%2Cp_76%3A1250218011&dc&crid=2AVSLWVGATVB&qid=1707326403&rnid=1250216011&sprefix=pytho%2Caps%2C201&ref=sr_nr_p_76_1&ds=v1%3AKXMOzMTujkDi8aQldjCKPs4qs%2FDQ8tlDqD8zHrOIgfg', 'https://www.amazon.com/s?k=python&rh=n%3A283155%2Cp_n_feature_twenty_browse-bin%3A13054657011&dc&crid=2AVSLWVGATVB&qid=1707326403&rnid=13054642011&sprefix=pytho%2Caps%2C201&ref=sr_nr_p_n_feature_twenty_browse-bin_1&ds=v1%3A3cd5ZM9vd2yuTccXOMVaVqIKEux%2BpfstpYaRA9LDf2E', 'https://www.amazon.com/s?k=python&rh=n%3A283155&dc&crid=2AVSLWVGATVB&qid=1707326403&rnid=2941120011&sprefix=pytho%2Caps%2C201&ref=sr_nr_n_1&ds=v1%3AQsN2pI5ELLS3cwoiaxHT5S2QLzsr%2B1rg%2F4oyoMdL%2BcY', 'https://www.amazon.com/s?k=python&rh=n%3A283155%2Cn%3A285856&dc&crid=2AVSLWVGATVB&qid=1707326403&rnid=2941120011&sprefix=pytho%2Caps%2C201&ref=sr_nr_n_2&ds=v1%3AfwJhelU%2Fudj7uGq0YWFnFMw4v6nBs5f2%2FuEbPTzL0Fs', 'https://www.amazon.com/s?k=python&rh=n%3A283155%2Cn%3A3839&dc&crid=2AVSLWVGATVB&qid=1707326403&rnid=2941120011&sprefix=pytho%2Caps%2C201&ref=sr_nr_n_3&ds=v1%3AMWYXA8Tn6ZSVKSo7%2FAKKIUzqYp8R5BMycBUgDb2t8uc', 'https://www.amazon.com/s?k=python&rh=n%3A283155%2Cn%3A3508&dc&crid=2AVSLWVGATVB&qid=1707326403&rnid=2941120011&sprefix=pytho%2Caps%2C201&ref=sr_nr_n_4&ds=v1%3AyiXZQiMjzshKfysDhqjesmziqD6k4eEOUcszN3d9SdY', 'https://www.amazon.com/s?k=python&rh=n%3A283155%2Cn%3A69766&dc&crid=2AVSLWVGATVB&qid=1707326403&rnid=2941120011&sprefix=pytho%2Caps%2C201&ref=sr_nr_n_5&ds=v1%3AbQv6075Q3kG2JLKxcSzHQLL%2FMqwfSS1Z2BJWM9XVIaU', 'https://www.amazon.com/s?k=python&rh=n%3A283155%2Cn%3A3510&dc&crid=2AVSLWVGATVB&qid=1707326403&rnid=2941120011&sprefix=pytho%2Caps%2C201&ref=sr_nr_n_6&ds=v1%3ApLefb4ur%2BA8aziD3SwGch8wQTCPtTRnX07dt2xLyTwA', 'https://www.amazon.com/s?k=python&rh=n%3A283155%2Cn%3A21&dc&crid=2AVSLWVGATVB&qid=1707326403&rnid=2941120011&sprefix=pytho%2Caps%2C201&ref=sr_nr_n_7&ds=v1%3A0l9XsDV7xL%2F6%2B8UOiFduheutB7LXK6flnfHYnp5rOlM', 'https://www.amazon.com/s?k=python&rh=n%3A133140011&dc&crid=2AVSLWVGATVB&qid=1707326403&rnid=2941120011&sprefix=pytho%2Caps%2C201&ref=sr_nr_n_8&ds=v1%3ArAk47SUbp8hJrVZQwKKEyKTzTEhoAIXUso0SNBKqWM4', 'https://www.amazon.com/s?k=python&rh=n%3A133140011%2Cn%3A156116011&dc&crid=2AVSLWVGATVB&qid=1707326403&rnid=2941120011&sprefix=pytho%2Caps%2C201&ref=sr_nr_n_9&ds=v1%3A2noBuSUYDnBmeLgDjplszDu9zIsikbJ8nbMLeEyM%2BjU', 'https://www.amazon.com/s?k=python&rh=n%3A283155%2Cp_72%3A1250221011&dc&crid=2AVSLWVGATVB&qid=1707326403&rnid=1250219011&sprefix=pytho%2Caps%2C201&ref=sr_nr_p_72_1&ds=v1%3AdgQzXas4YB83uH0U0JAGS3po%2FLnQYgGRNIH37tGjSo4', 'https://www.amazon.com/s?k=python&rh=n%3A283155%2Cp_72%3A1250222011&dc&crid=2AVSLWVGATVB&qid=1707326403&rnid=1250219011&sprefix=pytho%2Caps%2C201&ref=sr_nr_p_72_2&ds=v1%3AXvkyO9fG7Dnd4EPviXbb4FpY7LB5Gceye5nLHF%2FOiZA', 'https://www.amazon.com/s?k=python&rh=n%3A283155%2Cp_72%3A1250223011&dc&crid=2AVSLWVGATVB&qid=1707326403&rnid=1250219011&sprefix=pytho%2Caps%2C201&ref=sr_nr_p_72_3&ds=v1%3AwY84fh%2Bb0iV2hoqFNDKhvIjcaOgG4KtLISVpej2a6mQ', 'https://www.amazon.com/s?k=python&rh=n%3A283155%2Cp_72%3A1250224011&dc&crid=2AVSLWVGATVB&qid=1707326403&rnid=1250219011&sprefix=pytho%2Caps%2C201&ref=sr_nr_p_72_4&ds=v1%3Av6BihowZb6ahobeObSgsq69ZgwzDzIk2EaOxXVKbtZ8', 'https://www.amazon.com/s?k=python&rh=n%3A283155%2Cp_lbr_books_series_browse-bin%3ALearning+Python&dc&crid=2AVSLWVGATVB&qid=1707326403&rnid=3275128011&sprefix=pytho%2Caps%2C201&ref=sr_nr_p_lbr_books_series_browse-bin_1&ds=v1%3ADgmVCACjAyljrcJ48T2bz25MOtRi8c26AvZTYMCUB28', 'https://www.amazon.com/s?k=python&rh=n%3A283155%2Cp_lbr_books_series_browse-bin%3ALearn+Coding+Fast+with+Hands-On+Project&dc&crid=2AVSLWVGATVB&qid=1707326403&rnid=3275128011&sprefix=pytho%2Caps%2C201&ref=sr_nr_p_lbr_books_series_browse-bin_2&ds=v1%3AX3vgZVoELW%2FLN77UTTtECcml5MgSNnX8NWMuFu%2BWCI4', 'https://www.amazon.com/s?k=python&rh=n%3A283155%2Cp_lbr_books_series_browse-bin%3AComputer+Programming&dc&crid=2AVSLWVGATVB&qid=1707326403&rnid=3275128011&sprefix=pytho%2Caps%2C201&ref=sr_nr_p_lbr_books_series_browse-bin_3&ds=v1%3ARrbAbBygVGuYYR4nlMTsZd5%2BJT3cQNw3n1oEMKYCSps', 'https://www.amazon.com/s?k=python&rh=n%3A283155%2Cp_lbr_books_series_browse-bin%3AFor+Dummies+%28Computer%2FTech%29&dc&crid=2AVSLWVGATVB&qid=1707326403&rnid=3275128011&sprefix=pytho%2Caps%2C201&ref=sr_nr_p_lbr_books_series_browse-bin_4&ds=v1%3AaaE2AZezUln%2F%2B2gEvf9dtZdV%2FcQ6y5P32h9u3kAsjyE', 'https://www.amazon.com/s?k=python&rh=n%3A283155%2Cp_lbr_books_series_browse-bin%3AHead+First&dc&crid=2AVSLWVGATVB&qid=1707326403&rnid=3275128011&sprefix=pytho%2Caps%2C201&ref=sr_nr_p_lbr_books_series_browse-bin_5&ds=v1%3A5h9%2BF8%2F9BN2nbtlUQ%2BTdSuL8EsmB7M51DjW8y0MSR4s', 'https://www.amazon.com/s?k=python&rh=p_n_deal_type%3A23566065011&dc&crid=2AVSLWVGATVB&qid=1707326403&rnid=23566063011&sprefix=pytho%2Caps%2C201&ref=sr_nr_p_n_deal_type_1&ds=v1%3Az9ykRkilCSw0InOyV3Y9hDMFHAaYyvqZmfLBDmt%2FfEs', 'https://www.amazon.com/s?k=python&rh=p_n_deal_type%3A23566064011&dc&crid=2AVSLWVGATVB&qid=1707326403&rnid=23566063011&sprefix=pytho%2Caps%2C201&ref=sr_nr_p_n_deal_type_2&ds=v1%3At8uUFTTHQExRkGzU1Q9Nc41STugXQfwS3zFg69XI3%2FY', 'https://www.amazon.com/s?k=python&rh=n%3A283155%2Cp_n_feature_eleven_browse-bin%3A23616628011&dc&crid=2AVSLWVGATVB&qid=1707326403&rnid=23616627011&sprefix=pytho%2Caps%2C201&ref=sr_nr_p_n_feature_eleven_browse-bin_1&ds=v1%3AcD5WEXe1T2Fki9rnCLym76V4BJTDoaPMmtyDmBrJmOw', 'https://www.amazon.com/s?k=python&rh=n%3A283155%2Cp_n_publication_date%3A1250226011&dc&crid=2AVSLWVGATVB&qid=1707326403&rnid=1250225011&sprefix=pytho%2Caps%2C201&ref=sr_nr_p_n_publication_date_1&ds=v1%3A637%2FMwxI7JySHvp6WFunwBXC2X18jBjnXZlqu9FNroI', 'https://www.amazon.com/s?k=python&rh=n%3A283155%2Cp_n_publication_date%3A1250227011&dc&crid=2AVSLWVGATVB&qid=1707326403&rnid=1250225011&sprefix=pytho%2Caps%2C201&ref=sr_nr_p_n_publication_date_2&ds=v1%3A%2BeXaFxz94l7N87cmyL1QGpLGHrTiZPHG8G3cB0WJwO4', 'https://www.amazon.com/s?k=python&rh=n%3A283155%2Cp_n_publication_date%3A1250228011&dc&crid=2AVSLWVGATVB&qid=1707326403&rnid=1250225011&sprefix=pytho%2Caps%2C201&ref=sr_nr_p_n_publication_date_3&ds=v1%3ACBnY0i%2BKhMQ1%2FEBefdL%2BZfkdSrRZLxCABWNaLJtBubM', 'https://www.amazon.com/s?k=python&rh=n%3A5%2Cp_n_feature_two_browse-bin%3A10806564011&dc&crid=2AVSLWVGATVB&qid=1707326403&rnid=10806563011&sprefix=pytho%2Caps%2C201&ref=sr_nr_p_n_feature_two_browse-bin_1&ds=v1%3AygbVrQPhVckdQ2%2B7PS8d%2FI3UmtQHoDc3p144vr0JOt0', 'https://www.amazon.com/s?k=python&rh=n%3A5%2Cp_n_feature_two_browse-bin%3A10806566011&dc&crid=2AVSLWVGATVB&qid=1707326403&rnid=10806563011&sprefix=pytho%2Caps%2C201&ref=sr_nr_p_n_feature_two_browse-bin_2&ds=v1%3ATkpCEbp27hvkNSKsiug8sAkdurBrtF5r1tbTXxBFB2E', 'https://www.amazon.com/s?k=python&rh=n%3A5%2Cp_n_feature_two_browse-bin%3A10806567011&dc&crid=2AVSLWVGATVB&qid=1707326403&rnid=10806563011&sprefix=pytho%2Caps%2C201&ref=sr_nr_p_n_feature_two_browse-bin_3&ds=v1%3AZD7GXODckzNCsri9cK3GHyGwFnsufluoHaMMjpj8E%2Fg', 'https://www.amazon.com/s?k=python&rh=n%3A5%2Cp_n_feature_two_browse-bin%3A10806568011&dc&crid=2AVSLWVGATVB&qid=1707326403&rnid=10806563011&sprefix=pytho%2Caps%2C201&ref=sr_nr_p_n_feature_two_browse-bin_4&ds=v1%3A45Rbwem1CjptyshawWQ%2FZR9eIEH%2B5eZbV2d4LS%2Fimek', 'https://www.amazon.com/s?k=python&rh=n%3A5%2Cp_n_feature_two_browse-bin%3A10806565011&dc&crid=2AVSLWVGATVB&qid=1707326403&rnid=10806563011&sprefix=pytho%2Caps%2C201&ref=sr_nr_p_n_feature_two_browse-bin_5&ds=v1%3AjGCPgwFeEoSE0VhXGEpfzswLQ8YB98E8Qem0ywCsnH8', 'https://www.amazon.com/s?k=python&rh=n%3A5%2Cp_n_feature_four_browse-bin%3A10806570011&dc&crid=2AVSLWVGATVB&qid=1707326403&rnid=10806569011&sprefix=pytho%2Caps%2C201&ref=sr_nr_p_n_feature_four_browse-bin_1&ds=v1%3AAiNDAYcyyVRFRLY6jCKVJ1NklrRdbLGQLCAq4UMvloc', 'https://www.amazon.com/s?k=python&rh=n%3A5%2Cp_n_feature_four_browse-bin%3A10806571011&dc&crid=2AVSLWVGATVB&qid=1707326403&rnid=10806569011&sprefix=pytho%2Caps%2C201&ref=sr_nr_p_n_feature_four_browse-bin_2&ds=v1%3A4g4ZcH7l59XT1UI28kfJCzvLiue3OmsYefx6iJmEwmw', 'https://www.amazon.com/s?k=python&rh=n%3A5%2Cp_n_feature_four_browse-bin%3A10806572011&dc&crid=2AVSLWVGATVB&qid=1707326403&rnid=10806569011&sprefix=pytho%2Caps%2C201&ref=sr_nr_p_n_feature_four_browse-bin_3&ds=v1%3A%2Bw%2FIucc9KCrx8FuuyUzhSP%2Biy3B9D29CXyytjN3H17o', 'https://www.amazon.com/s?k=python&rh=n%3A283155%2Cp_n_feature_browse-bin%3A2656022011&dc&crid=2AVSLWVGATVB&qid=1707326403&rnid=618072011&sprefix=pytho%2Caps%2C201&ref=sr_nr_p_n_feature_browse-bin_1&ds=v1%3A9EUZYBeYBeArNQ4PP1rAEQb1a%2B1mNe5XYQtGBcgMYpM', 'https://www.amazon.com/s?k=python&rh=n%3A283155%2Cp_n_feature_browse-bin%3A2656020011&dc&crid=2AVSLWVGATVB&qid=1707326403&rnid=618072011&sprefix=pytho%2Caps%2C201&ref=sr_nr_p_n_feature_browse-bin_2&ds=v1%3Ate8XChDP9tUD%2FYPPoxlvYX3n5vstFjDOLsfUjgSeHYA', 'https://www.amazon.com/s?k=python&rh=n%3A283155%2Cp_n_feature_browse-bin%3A618073011&dc&crid=2AVSLWVGATVB&qid=1707326403&rnid=618072011&sprefix=pytho%2Caps%2C201&ref=sr_nr_p_n_feature_browse-bin_3&ds=v1%3Ayt6zcEKfhUzJaZKbvmHzu0Q8I6SKWOEm2kdBxKlZPi0', 'https://www.amazon.com/s?k=python&rh=n%3A283155%2Cp_n_feature_browse-bin%3A14725254011&dc&crid=2AVSLWVGATVB&qid=1707326403&rnid=618072011&sprefix=pytho%2Caps%2C201&ref=sr_nr_p_n_feature_browse-bin_4&ds=v1%3AywXV%2FfpQIkD3INx73oRPAnh4M85VILCbjJNXzxGUap0', 'https://www.amazon.com/s?k=python&rh=n%3A283155%2Cp_n_feature_browse-bin%3A1240885011&dc&crid=2AVSLWVGATVB&qid=1707326403&rnid=618072011&sprefix=pytho%2Caps%2C201&ref=sr_nr_p_n_feature_browse-bin_5&ds=v1%3ACy1f8lAX%2FhumGx1Q1SUNWupeoENB8FRrmmpYj%2FN%2B2ls', 'https://www.amazon.com/s?k=python&rh=n%3A283155%2Cp_n_feature_browse-bin%3A7114437011&dc&crid=2AVSLWVGATVB&qid=1707326403&rnid=618072011&sprefix=pytho%2Caps%2C201&ref=sr_nr_p_n_feature_browse-bin_6&ds=v1%3AMbF6UmFmtZLCc%2F%2Bc36qsJsaJsfDxnRWtyE0OvPzD4mQ', 'https://www.amazon.com/s?k=python&rh=n%3A283155%2Cp_n_feature_browse-bin%3A13411983011&dc&crid=2AVSLWVGATVB&qid=1707326403&rnid=618072011&sprefix=pytho%2Caps%2C201&ref=sr_nr_p_n_feature_browse-bin_7&ds=v1%3AWBkRQuaxQ3bTVDcDdMmv36AkXnRadJwRI6z5dsDTlQc', 'https://www.amazon.com/s?k=python&rh=n%3A283155%2Cp_n_feature_browse-bin%3A2682077011&dc&crid=2AVSLWVGATVB&qid=1707326403&rnid=618072011&sprefix=pytho%2Caps%2C201&ref=sr_nr_p_n_feature_browse-bin_8&ds=v1%3AKjPotAcUr%2BDbSiLQrc4h8zO26JynoxGR0XJaPbYPoCA', 'https://www.amazon.com/s?k=python&rh=n%3A283155%2Cp_n_feature_browse-bin%3A2656019011&dc&crid=2AVSLWVGATVB&qid=1707326403&rnid=618072011&sprefix=pytho%2Caps%2C201&ref=sr_nr_p_n_feature_browse-bin_9&ds=v1%3AKPnwzeKtQM%2FIS0mi53tGKA4fncS%2FZAlL9wFTVx4Tcaw', 'https://www.amazon.com/s?k=python&rh=n%3A283155%2Cp_n_feature_browse-bin%3A23488071011&dc&crid=2AVSLWVGATVB&qid=1707326403&rnid=618072011&sprefix=pytho%2Caps%2C201&ref=sr_nr_p_n_feature_browse-bin_10&ds=v1%3A9Zx3O24NvE2J5N%2Bl5JCI2l%2BqohdAUpvDfX3aQd%2BNU84', 'https://www.amazon.com/s?k=python&rh=n%3A283155%2Cp_lbr_one_browse-bin%3AEric+Matthes&dc&crid=2AVSLWVGATVB&qid=1707326403&rnid=2272759011&sprefix=pytho%2Caps%2C201&ref=sr_nr_p_lbr_one_browse-bin_1&ds=v1%3AxLEzVA8oZ9mBKvrd6b7q5H8%2B8KGDKfDtcR5v9G2cKFk', 'https://www.amazon.com/s?k=python&rh=n%3A283155%2Cp_lbr_one_browse-bin%3ALuciano+Ramalho&dc&crid=2AVSLWVGATVB&qid=1707326403&rnid=2272759011&sprefix=pytho%2Caps%2C201&ref=sr_nr_p_lbr_one_browse-bin_2&ds=v1%3A%2F6KNJdpQWiPoE1RC%2BQLULHPa4Lt%2BQOMX2aERs6cuwSQ', 'https://www.amazon.com/s?k=python&rh=n%3A283155%2Cp_lbr_one_browse-bin%3AAl+Sweigart&dc&crid=2AVSLWVGATVB&qid=1707326403&rnid=2272759011&sprefix=pytho%2Caps%2C201&ref=sr_nr_p_lbr_one_browse-bin_3&ds=v1%3AcBbqGHDZEzaF0SBCM0lomzsyyEoSKTRModKLi8QJqPc', 'https://www.amazon.com/s?k=python&rh=n%3A283155%2Cp_lbr_one_browse-bin%3AMark+Lutz&dc&crid=2AVSLWVGATVB&qid=1707326403&rnid=2272759011&sprefix=pytho%2Caps%2C201&ref=sr_nr_p_lbr_one_browse-bin_4&ds=v1%3A1YMCvf1iqZjetCfFeOT0e%2FUsZIOajZEpI5hZa8UwG6o', 'https://www.amazon.com/s?k=python&rh=n%3A283155%2Cp_lbr_one_browse-bin%3AJamie+Chan&dc&crid=2AVSLWVGATVB&qid=1707326403&rnid=2272759011&sprefix=pytho%2Caps%2C201&ref=sr_nr_p_lbr_one_browse-bin_5&ds=v1%3A%2FocqQyn9wlaLJeDKK8Gf0MuAmbeKE16GzgWK2%2F12NF4', 'https://www.amazon.com/s?k=python&rh=n%3A283155%2Cp_n_feature_nine_browse-bin%3A3291437011&dc&crid=2AVSLWVGATVB&qid=1707326403&rnid=3291435011&sprefix=pytho%2Caps%2C201&ref=sr_nr_p_n_feature_nine_browse-bin_1&ds=v1%3AGVRRwbrLFH%2FgrkxSGibenQMVWmbxgByaYYI4cVY%2FpvY', 'https://www.amazon.com/s?k=python&rh=n%3A283155%2Cp_n_feature_nine_browse-bin%3A3291436011&dc&crid=2AVSLWVGATVB&qid=1707326403&rnid=3291435011&sprefix=pytho%2Caps%2C201&ref=sr_nr_p_n_feature_nine_browse-bin_2&ds=v1%3A6wH3i%2BGGianL0WdD1RYM%2BLsfVPhsohagKELEQ620BMA', 'https://www.amazon.com/s?k=python&rh=n%3A283155%2Cp_n_feature_nine_browse-bin%3A3291438011&dc&crid=2AVSLWVGATVB&qid=1707326403&rnid=3291435011&sprefix=pytho%2Caps%2C201&ref=sr_nr_p_n_feature_nine_browse-bin_3&ds=v1%3AXNYOFY2n%2BpylLI2pb2EGm4%2F8Krm%2BcybBGw6dJi%2F4Tbs', 'https://www.amazon.com/s?k=python&rh=n%3A283155%2Cp_n_feature_nine_browse-bin%3A3291439011&dc&crid=2AVSLWVGATVB&qid=1707326403&rnid=3291435011&sprefix=pytho%2Caps%2C201&ref=sr_nr_p_n_feature_nine_browse-bin_4&ds=v1%3AJ0Ty%2B33zTYxrUAAYTplw%2B38D7oezkeiwdPvj0B841oQ', 'https://www.amazon.com/s?k=python&rh=n%3A283155%2Cp_n_feature_nine_browse-bin%3A3291440011&dc&crid=2AVSLWVGATVB&qid=1707326403&rnid=3291435011&sprefix=pytho%2Caps%2C201&ref=sr_nr_p_n_feature_nine_browse-bin_5&ds=v1%3AcqlQ9gOtBwngq4f6At96Cq%2FajmmvBH%2F2xIXfr7a%2FfbE', 'https://www.amazon.com/s?k=python&rh=n%3A283155%2Cp_n_feature_nine_browse-bin%3A3291441011&dc&crid=2AVSLWVGATVB&qid=1707326403&rnid=3291435011&sprefix=pytho%2Caps%2C201&ref=sr_nr_p_n_feature_nine_browse-bin_6&ds=v1%3ACVSm3zQpW%2BSbsn8OZFybF8HvAqvjPflTDDuSWbcSjV8', 'https://www.amazon.com/s?k=python&rh=n%3A283155%2Cp_n_feature_nine_browse-bin%3A3291442011&dc&crid=2AVSLWVGATVB&qid=1707326403&rnid=3291435011&sprefix=pytho%2Caps%2C201&ref=sr_nr_p_n_feature_nine_browse-bin_7&ds=v1%3AvLnUBd7qH3YL1UwXN0fzPTjXlRbCBrXJtyet3wk3fJ0', 'https://www.amazon.com/s?k=python&rh=n%3A283155%2Cp_n_feature_nine_browse-bin%3A18327576011&dc&crid=2AVSLWVGATVB&qid=1707326403&rnid=3291435011&sprefix=pytho%2Caps%2C201&ref=sr_nr_p_n_feature_nine_browse-bin_8&ds=v1%3A%2BPmOjIBqThyVc4GfhBDHa9JaFKr77AlG8neOR6g9y%2BU', 'https://www.amazon.com/s?k=python&rh=n%3A283155%2Cp_n_feature_nine_browse-bin%3A3291458011&dc&crid=2AVSLWVGATVB&qid=1707326403&rnid=3291435011&sprefix=pytho%2Caps%2C201&ref=sr_nr_p_n_feature_nine_browse-bin_9&ds=v1%3ApZT2htSLN7aXWD57gaNQzM1wF5ZwlVCERnFUzVOyCaM', 'https://www.amazon.com/s?k=python&rh=n%3A283155%2Cp_n_feature_nine_browse-bin%3A3291455011&dc&crid=2AVSLWVGATVB&qid=1707326403&rnid=3291435011&sprefix=pytho%2Caps%2C201&ref=sr_nr_p_n_feature_nine_browse-bin_10&ds=v1%3A9moYJb6Emow%2Bk3xUCNY3j2JpGqD1Himt5vBmX89m6ME', 'https://www.amazon.com/s?k=python&rh=n%3A283155%2Cp_n_feature_nine_browse-bin%3A3291481011&dc&crid=2AVSLWVGATVB&qid=1707326403&rnid=3291435011&sprefix=pytho%2Caps%2C201&ref=sr_nr_p_n_feature_nine_browse-bin_11&ds=v1%3A2T%2FgBpTE4%2FvSr6T%2ByTGmHvqfo9zYtjVErzBMk1EyTRA', 'https://www.amazon.com/s?k=python&rh=n%3A283155%2Cp_n_feature_nine_browse-bin%3A3291468011&dc&crid=2AVSLWVGATVB&qid=1707326403&rnid=3291435011&sprefix=pytho%2Caps%2C201&ref=sr_nr_p_n_feature_nine_browse-bin_12&ds=v1%3AAv2vbqNSy8riX3CMKKsLrwDqApI2ApxbuARu2Cs5%2BZo', 'https://www.amazon.com/s?k=python&rh=n%3A283155%2Cp_n_feature_nine_browse-bin%3A3291452011&dc&crid=2AVSLWVGATVB&qid=1707326403&rnid=3291435011&sprefix=pytho%2Caps%2C201&ref=sr_nr_p_n_feature_nine_browse-bin_13&ds=v1%3AFgMQM7qYxfUgMpKbkOJ0OTl8voiPB1%2FRplL50Nj6qyY', 'https://www.amazon.com/s?k=python&rh=n%3A283155%2Cp_n_feature_nine_browse-bin%3A3291451011&dc&crid=2AVSLWVGATVB&qid=1707326403&rnid=3291435011&sprefix=pytho%2Caps%2C201&ref=sr_nr_p_n_feature_nine_browse-bin_14&ds=v1%3AUeJekUk0skKFecDocXxIGg7f1BCnS1rFoPdH9oBXYQ8', 'https://www.amazon.com/s?k=python&rh=n%3A283155%2Cp_n_feature_nine_browse-bin%3A3291446011&dc&crid=2AVSLWVGATVB&qid=1707326403&rnid=3291435011&sprefix=pytho%2Caps%2C201&ref=sr_nr_p_n_feature_nine_browse-bin_15&ds=v1%3AgsluOtLyJSAjhYqXO%2FWSUJxrBMWzsniuUcUW3AQ4P00', 'https://www.amazon.com/s?k=python&rh=n%3A283155%2Cp_n_feature_nine_browse-bin%3A3291454011&dc&crid=2AVSLWVGATVB&qid=1707326403&rnid=3291435011&sprefix=pytho%2Caps%2C201&ref=sr_nr_p_n_feature_nine_browse-bin_16&ds=v1%3AA35sium5WyQ9bILMBzkGFmNDEjy1fxCaMBoCW9IvE80', 'https://www.amazon.com/s?k=python&rh=n%3A283155%2Cp_n_feature_nine_browse-bin%3A3291466011&dc&crid=2AVSLWVGATVB&qid=1707326403&rnid=3291435011&sprefix=pytho%2Caps%2C201&ref=sr_nr_p_n_feature_nine_browse-bin_17&ds=v1%3Ay1hETXOkX%2BDStPOPsYTJCuK7g0qZkQRBRg%2BpM0uyWEQ', 'https://www.amazon.com/s?k=python&rh=n%3A283155%2Cp_n_feature_nine_browse-bin%3A3291443011&dc&crid=2AVSLWVGATVB&qid=1707326403&rnid=3291435011&sprefix=pytho%2Caps%2C201&ref=sr_nr_p_n_feature_nine_browse-bin_18&ds=v1%3AUjnAJY8mQuVAttW%2FqFULSZV4d8SHY06BXl47MTYnH9w', 'https://www.amazon.com/s?k=python&rh=n%3A283155%2Cp_n_feature_nine_browse-bin%3A3291459011&dc&crid=2AVSLWVGATVB&qid=1707326403&rnid=3291435011&sprefix=pytho%2Caps%2C201&ref=sr_nr_p_n_feature_nine_browse-bin_19&ds=v1%3AwC3HD%2BnB4JxB7AddxOjQ82T5qonubL9gYONVwo3Hhf8', 'https://www.amazon.com/s?k=python&rh=n%3A283155%2Cp_n_feature_nine_browse-bin%3A3291506011&dc&crid=2AVSLWVGATVB&qid=1707326403&rnid=3291435011&sprefix=pytho%2Caps%2C201&ref=sr_nr_p_n_feature_nine_browse-bin_20&ds=v1%3A4jYcFS7o3Z6Edqh2WfSho2G3iDdYGKpIcil6koIma%2BU', 'https://www.amazon.com/s?k=python&rh=n%3A283155%2Cp_n_feature_nine_browse-bin%3A3291508011&dc&crid=2AVSLWVGATVB&qid=1707326403&rnid=3291435011&sprefix=pytho%2Caps%2C201&ref=sr_nr_p_n_feature_nine_browse-bin_21&ds=v1%3A8Qpm4t1Z2jJEzgt5f30BJpnXNgErfzGtI%2BFiC0PCtJo', 'https://www.amazon.com/s?k=python&rh=n%3A283155%2Cp_n_feature_nine_browse-bin%3A3291453011&dc&crid=2AVSLWVGATVB&qid=1707326403&rnid=3291435011&sprefix=pytho%2Caps%2C201&ref=sr_nr_p_n_feature_nine_browse-bin_22&ds=v1%3A%2BG2r1t8jSK%2B0OIuHalE9HWkHCn9cHOKkqFej6wqI5h4', 'https://www.amazon.com/s?k=python&rh=n%3A283155%2Cp_n_feature_nine_browse-bin%3A3291447011&dc&crid=2AVSLWVGATVB&qid=1707326403&rnid=3291435011&sprefix=pytho%2Caps%2C201&ref=sr_nr_p_n_feature_nine_browse-bin_23&ds=v1%3A8frIW4ud5h5wwyTb3t%2BlnUNKp0DGidpOIvBw6eRI4B0', 'https://www.amazon.com/s?k=python&rh=n%3A283155%2Cp_n_feature_nine_browse-bin%3A3291445011&dc&crid=2AVSLWVGATVB&qid=1707326403&rnid=3291435011&sprefix=pytho%2Caps%2C201&ref=sr_nr_p_n_feature_nine_browse-bin_24&ds=v1%3AzussQYQrVSw7UHkgxQXttsP04a0KOH0yedCAcg1%2BAww', 'https://www.amazon.com/s?k=python&rh=n%3A283155%2Cp_n_feature_nine_browse-bin%3A3291463011&dc&crid=2AVSLWVGATVB&qid=1707326403&rnid=3291435011&sprefix=pytho%2Caps%2C201&ref=sr_nr_p_n_feature_nine_browse-bin_25&ds=v1%3AOTA036FAEscTwg99Gt67LZSceNk%2FtYyWURRYy3nxTEo', 'https://www.amazon.com/s?k=python&rh=n%3A283155%2Cp_n_feature_nine_browse-bin%3A3291448011&dc&crid=2AVSLWVGATVB&qid=1707326403&rnid=3291435011&sprefix=pytho%2Caps%2C201&ref=sr_nr_p_n_feature_nine_browse-bin_26&ds=v1%3Abo6pns08VE%2F1Bi6J3Iv%2FPY1MXNU3ERVZA7Tt6b8rPFg', 'https://www.amazon.com/s?k=python&rh=n%3A283155%2Cp_n_feature_nine_browse-bin%3A3291476011&dc&crid=2AVSLWVGATVB&qid=1707326403&rnid=3291435011&sprefix=pytho%2Caps%2C201&ref=sr_nr_p_n_feature_nine_browse-bin_27&ds=v1%3AlBe9Nk%2B6vOT5znt9wcpoalfPDCfvpSMSMUcXqn2Iubw', 'https://www.amazon.com/s?k=python&rh=n%3A283155%2Cp_n_feature_nine_browse-bin%3A3291449011&dc&crid=2AVSLWVGATVB&qid=1707326403&rnid=3291435011&sprefix=pytho%2Caps%2C201&ref=sr_nr_p_n_feature_nine_browse-bin_28&ds=v1%3A%2FkK%2F9YIx9fa0puXSmBMWkXRpIS8tPajSw4jriGPcclw', 'https://www.amazon.com/s?k=python&rh=n%3A283155%2Cp_n_feature_nine_browse-bin%3A3291482011&dc&crid=2AVSLWVGATVB&qid=1707326403&rnid=3291435011&sprefix=pytho%2Caps%2C201&ref=sr_nr_p_n_feature_nine_browse-bin_29&ds=v1%3AEaK0bJLZiQuSEd29S%2FMoyMKvxNFvIHayEoz9HWj1Oe8', 'https://www.amazon.com/s?k=python&rh=n%3A283155%2Cp_n_feature_nine_browse-bin%3A3291461011&dc&crid=2AVSLWVGATVB&qid=1707326403&rnid=3291435011&sprefix=pytho%2Caps%2C201&ref=sr_nr_p_n_feature_nine_browse-bin_30&ds=v1%3ARlUbJAT90WF1aGOX9FsPNGejMphs72qu9UrWPr8ufCM', 'https://www.amazon.com/s?k=python&rh=n%3A283155%2Cp_n_feature_nine_browse-bin%3A3291465011&dc&crid=2AVSLWVGATVB&qid=1707326403&rnid=3291435011&sprefix=pytho%2Caps%2C201&ref=sr_nr_p_n_feature_nine_browse-bin_31&ds=v1%3AZ5Kf1JjETWZUC%2FwA%2BhF8UFUUnIYR85Yak%2FJ%2FRAJtrrE', 'https://www.amazon.com/s?k=python&rh=p_n_sb_certificate_id%3A98614993011&dc&crid=2AVSLWVGATVB&qid=1707326403&rnid=98614992011&sprefix=pytho%2Caps%2C201&ref=sr_nr_p_n_sb_certificate_id_1&ds=v1%3AL%2Bxz%2Br6CRUjDRpfrvYvYbHNvPpkuMJpJQiuTCauKMUM', 'https://www.amazon.com/s?k=python&rh=p_n_is-global-store-asin%3A16354393011&dc&crid=2AVSLWVGATVB&qid=1707326403&rnid=16354392011&sprefix=pytho%2Caps%2C201&ref=sr_nr_p_n_is-global-store-asin_1&ds=v1%3Ak2opY9I7RiaTjO8b0RUVhSMjD8JiNtQSJAVMRqvoqgs', 'https://www.amazon.com/s?k=python&rh=p_n_shipping_option-bin%3A3242350011&dc&crid=2AVSLWVGATVB&qid=1707326403&rnid=2944662011&sprefix=pytho%2Caps%2C201&ref=sr_nr_p_n_shipping_option-bin_1&ds=v1%3AH6CgCMW4Shxuq6wBkOjvneg2w4iK1eoT9mauyJoDrT4', 'https://www.amazon.com/s?k=python&rh=n%3A283155%2Cp_n_condition-type%3A1294422011&dc&crid=2AVSLWVGATVB&qid=1707326403&rnid=1294421011&sprefix=pytho%2Caps%2C201&ref=sr_nr_p_n_condition-type_1&ds=v1%3AmjpBRCqR79lptP2G3UOCx2BEynlz1EzVC%2FLy%2FDDmLVI', 'https://www.amazon.com/s?k=python&rh=n%3A283155%2Cp_n_condition-type%3A1294423011&dc&crid=2AVSLWVGATVB&qid=1707326403&rnid=1294421011&sprefix=pytho%2Caps%2C201&ref=sr_nr_p_n_condition-type_2&ds=v1%3AqL9rXCGyngiXoQUYSSOuUcFNQUAkdQdVrkhFDAJgsyM', 'https://www.amazon.com/s?k=python&rh=n%3A283155%2Cp_n_condition-type%3A1294425011&dc&crid=2AVSLWVGATVB&qid=1707326403&rnid=1294421011&sprefix=pytho%2Caps%2C201&ref=sr_nr_p_n_condition-type_3&ds=v1%3ARQP2D2nFdwNaFstIo6LM8uva3fiVsFRzAFv8JNGqHBY', 'https://www.amazon.com/s?k=python&rh=p_n_availability%3A2661601011&dc&crid=2AVSLWVGATVB&qid=1707326403&rnid=2661599011&sprefix=pytho%2Caps%2C201&ref=sr_nr_p_n_availability_2&ds=v1%3A1PmdfdGYAvmz4GesqiCmlhgRnyfaSkmWnjw4qPbSAgo']\n"
     ]
    }
   ],
   "source": [
    "href_list = []\n",
    "\n",
    "# Iterate over the list of elements to extract the href attributes\n",
    "for item in list_forms1:\n",
    "    href = item.get_attribute('href')\n",
    "    href_list.append(href)\n",
    "\n",
    "# Now you have a list of href attributes\n",
    "print(href_list)"
   ]
  },
  {
   "cell_type": "code",
   "execution_count": null,
   "metadata": {},
   "outputs": [],
   "source": []
  }
 ],
 "metadata": {
  "kernelspec": {
   "display_name": "base",
   "language": "python",
   "name": "python3"
  },
  "language_info": {
   "codemirror_mode": {
    "name": "ipython",
    "version": 3
   },
   "file_extension": ".py",
   "mimetype": "text/x-python",
   "name": "python",
   "nbconvert_exporter": "python",
   "pygments_lexer": "ipython3",
   "version": "3.9.12"
  }
 },
 "nbformat": 4,
 "nbformat_minor": 2
}
