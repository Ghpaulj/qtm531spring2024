{
 "cells": [
  {
   "attachments": {},
   "cell_type": "markdown",
   "metadata": {},
   "source": [
    "# <span style=\"color:darkblue\"> Lecture 20: Text Analysis </span>\n",
    "\n",
    "<font size = \"5\">\n",
    "\n",
    "Intro text analysis\n",
    "\n",
    "https://www.youtube.com/watch?v=IRKDrrzh4dE"
   ]
  },
  {
   "cell_type": "markdown",
   "metadata": {},
   "source": [
    "# <span style=\"color:darkblue\"> I. Setup Working Environment </span>"
   ]
  },
  {
   "cell_type": "code",
   "execution_count": null,
   "metadata": {},
   "outputs": [],
   "source": []
  },
  {
   "cell_type": "code",
   "execution_count": 36,
   "metadata": {},
   "outputs": [],
   "source": [
    "\n",
    "# Import SK-Learn library for machine learning functions\n",
    "from sklearn.feature_extraction.text import CountVectorizer\n",
    "from sklearn.feature_extraction.text import ENGLISH_STOP_WORDS \n",
    "from sklearn.decomposition import TruncatedSVD\n",
    "from sklearn.model_selection import train_test_split\n",
    "\n",
    "from sklearn.svm import SVR\n",
    "from sklearn.pipeline import Pipeline\n",
    "from sklearn.metrics import mean_squared_error\n",
    "\n",
    "# Import standard data analysis packages\n",
    "import numpy as np\n",
    "import pandas as pd\n",
    "import matplotlib.pyplot as plt\n",
    "import seaborn as sns\n",
    "\n",
    "# Import Kmenas\n",
    "from sklearn.cluster import MiniBatchKMeans\n",
    "\n",
    "import faiss\n"
   ]
  },
  {
   "cell_type": "markdown",
   "metadata": {},
   "source": [
    "# <span style=\"color:darkblue\"> II. Data </span>\n",
    "\n",
    "<font size = \"5\">\n",
    "\n",
    "We will analyze a dataset on Amazon Reviews\n",
    "\n",
    "https://www.kaggle.com/datasets/yasserh/amazon-product-reviews-dataset/data\n"
   ]
  },
  {
   "cell_type": "code",
   "execution_count": 8,
   "metadata": {},
   "outputs": [
    {
     "data": {
      "text/plain": [
       "1597"
      ]
     },
     "execution_count": 8,
     "metadata": {},
     "output_type": "execute_result"
    }
   ],
   "source": [
    "data = pd.read_csv(\"data_raw/amazon_reviews.csv\")\n",
    "\n",
    "len(data)\n"
   ]
  },
  {
   "cell_type": "markdown",
   "metadata": {},
   "source": [
    "<font size = \"5\">\n",
    "\n",
    "Check features"
   ]
  },
  {
   "cell_type": "code",
   "execution_count": 3,
   "metadata": {},
   "outputs": [
    {
     "data": {
      "text/plain": [
       "Index(['id', 'asins', 'brand', 'categories', 'colors', 'dateAdded',\n",
       "       'dateUpdated', 'dimension', 'ean', 'keys', 'manufacturer',\n",
       "       'manufacturerNumber', 'name', 'prices', 'reviews.date',\n",
       "       'reviews.doRecommend', 'reviews.numHelpful', 'reviews.rating',\n",
       "       'reviews.sourceURLs', 'reviews.text', 'reviews.title',\n",
       "       'reviews.userCity', 'reviews.userProvince', 'reviews.username', 'sizes',\n",
       "       'upc', 'weight'],\n",
       "      dtype='object')"
      ]
     },
     "execution_count": 3,
     "metadata": {},
     "output_type": "execute_result"
    }
   ],
   "source": [
    "data.columns"
   ]
  },
  {
   "cell_type": "markdown",
   "metadata": {},
   "source": [
    "<font size = \"5\">\n",
    "\n",
    "Check text"
   ]
  },
  {
   "cell_type": "code",
   "execution_count": 15,
   "metadata": {},
   "outputs": [
    {
     "data": {
      "text/plain": [
       "0       I initially had trouble deciding between the p...\n",
       "1       Allow me to preface this with a little history...\n",
       "2       I am enjoying it so far. Great for reading. Ha...\n",
       "3       I bought one of the first Paperwhites and have...\n",
       "4       I have to say upfront - I don't like coroporat...\n",
       "                              ...                        \n",
       "1592    This is not the same remote that I got for my ...\n",
       "1593    I have had to change the batteries in this rem...\n",
       "1594    Remote did not activate, nor did it connect to...\n",
       "1595    It does the job but is super over priced. I fe...\n",
       "1596    I ordered this item to replace the one that no...\n",
       "Name: reviews.text, Length: 1597, dtype: object"
      ]
     },
     "execution_count": 15,
     "metadata": {},
     "output_type": "execute_result"
    }
   ],
   "source": [
    "reviews = data[\"reviews.text\"]\n",
    "reviews"
   ]
  },
  {
   "cell_type": "markdown",
   "metadata": {},
   "source": [
    "<font size = \"5\">\n",
    "\n",
    "Check rating"
   ]
  },
  {
   "cell_type": "code",
   "execution_count": null,
   "metadata": {},
   "outputs": [],
   "source": [
    "plt.hist(x = data[\"reviews.rating\"])\n"
   ]
  },
  {
   "cell_type": "markdown",
   "metadata": {},
   "source": [
    "<font size = \"5\">\n",
    "\n",
    "Filter non-missing ratings data\n",
    "\n",
    "- 26% missing data!\n",
    "- Could generate selection bias in reviews"
   ]
  },
  {
   "cell_type": "code",
   "execution_count": 23,
   "metadata": {},
   "outputs": [
    {
     "name": "stdout",
     "output_type": "stream",
     "text": [
      "0.2629931120851597\n"
     ]
    }
   ],
   "source": [
    "# Check for missing values\n",
    "# A lot of reviews are missing review data\n",
    "missing_values = data[\"reviews.rating\"].isnull().sum()\n",
    "percent_missing = missing_values /len(data)\n",
    "print(percent_missing)\n",
    "\n",
    "# Extract non-missing data\n",
    "data_nonmissing = data[data[\"reviews.rating\"].notnull()]"
   ]
  },
  {
   "cell_type": "markdown",
   "metadata": {},
   "source": [
    "# <span style=\"color:darkblue\"> III. Bag of Words </span>\n"
   ]
  },
  {
   "cell_type": "markdown",
   "metadata": {},
   "source": [
    "<font size = \"5\">\n",
    "\n",
    "Stop words\n",
    "\n",
    "- Commonly used words\n",
    "- Available for different languages\n",
    "\n"
   ]
  },
  {
   "cell_type": "code",
   "execution_count": 5,
   "metadata": {},
   "outputs": [
    {
     "data": {
      "text/plain": [
       "['together',\n",
       " 'above',\n",
       " 'many',\n",
       " 'whom',\n",
       " 'indeed',\n",
       " 'these',\n",
       " 'describe',\n",
       " 'it',\n",
       " 'cry',\n",
       " 'not']"
      ]
     },
     "execution_count": 5,
     "metadata": {},
     "output_type": "execute_result"
    }
   ],
   "source": [
    "# First ten English stop words\n",
    "list(ENGLISH_STOP_WORDS)[0:10]"
   ]
  },
  {
   "cell_type": "markdown",
   "metadata": {},
   "source": [
    "<font size = \"5\">\n",
    "\n",
    "Create custom stop words"
   ]
  },
  {
   "cell_type": "code",
   "execution_count": 27,
   "metadata": {},
   "outputs": [],
   "source": [
    "# Here we added Python to the list of stop words\n",
    "custom_stop_words = list(ENGLISH_STOP_WORDS) + [\"Python\"]\n",
    "\n",
    "# You can also create your own list\n",
    "# custom_stop_words = [\"and\",\"or\",\"how\"]"
   ]
  },
  {
   "cell_type": "markdown",
   "metadata": {},
   "source": [
    "<font size = \"5\">\n",
    "\n",
    "Count vectorizer\n",
    "\n",
    "- Check for distinct words across all reviews\n",
    "- Remove any stop words\n",
    "- ```min_df``` is used to filter out words depending <br>\n",
    "on how often they occur. For example, ```min_df=3``` <br>\n",
    "only keeps words if they are mentioned at least 3 times"
   ]
  },
  {
   "cell_type": "code",
   "execution_count": 14,
   "metadata": {},
   "outputs": [
    {
     "data": {
      "text/html": [
       "<style>#sk-container-id-1 {color: black;background-color: white;}#sk-container-id-1 pre{padding: 0;}#sk-container-id-1 div.sk-toggleable {background-color: white;}#sk-container-id-1 label.sk-toggleable__label {cursor: pointer;display: block;width: 100%;margin-bottom: 0;padding: 0.3em;box-sizing: border-box;text-align: center;}#sk-container-id-1 label.sk-toggleable__label-arrow:before {content: \"▸\";float: left;margin-right: 0.25em;color: #696969;}#sk-container-id-1 label.sk-toggleable__label-arrow:hover:before {color: black;}#sk-container-id-1 div.sk-estimator:hover label.sk-toggleable__label-arrow:before {color: black;}#sk-container-id-1 div.sk-toggleable__content {max-height: 0;max-width: 0;overflow: hidden;text-align: left;background-color: #f0f8ff;}#sk-container-id-1 div.sk-toggleable__content pre {margin: 0.2em;color: black;border-radius: 0.25em;background-color: #f0f8ff;}#sk-container-id-1 input.sk-toggleable__control:checked~div.sk-toggleable__content {max-height: 200px;max-width: 100%;overflow: auto;}#sk-container-id-1 input.sk-toggleable__control:checked~label.sk-toggleable__label-arrow:before {content: \"▾\";}#sk-container-id-1 div.sk-estimator input.sk-toggleable__control:checked~label.sk-toggleable__label {background-color: #d4ebff;}#sk-container-id-1 div.sk-label input.sk-toggleable__control:checked~label.sk-toggleable__label {background-color: #d4ebff;}#sk-container-id-1 input.sk-hidden--visually {border: 0;clip: rect(1px 1px 1px 1px);clip: rect(1px, 1px, 1px, 1px);height: 1px;margin: -1px;overflow: hidden;padding: 0;position: absolute;width: 1px;}#sk-container-id-1 div.sk-estimator {font-family: monospace;background-color: #f0f8ff;border: 1px dotted black;border-radius: 0.25em;box-sizing: border-box;margin-bottom: 0.5em;}#sk-container-id-1 div.sk-estimator:hover {background-color: #d4ebff;}#sk-container-id-1 div.sk-parallel-item::after {content: \"\";width: 100%;border-bottom: 1px solid gray;flex-grow: 1;}#sk-container-id-1 div.sk-label:hover label.sk-toggleable__label {background-color: #d4ebff;}#sk-container-id-1 div.sk-serial::before {content: \"\";position: absolute;border-left: 1px solid gray;box-sizing: border-box;top: 0;bottom: 0;left: 50%;z-index: 0;}#sk-container-id-1 div.sk-serial {display: flex;flex-direction: column;align-items: center;background-color: white;padding-right: 0.2em;padding-left: 0.2em;position: relative;}#sk-container-id-1 div.sk-item {position: relative;z-index: 1;}#sk-container-id-1 div.sk-parallel {display: flex;align-items: stretch;justify-content: center;background-color: white;position: relative;}#sk-container-id-1 div.sk-item::before, #sk-container-id-1 div.sk-parallel-item::before {content: \"\";position: absolute;border-left: 1px solid gray;box-sizing: border-box;top: 0;bottom: 0;left: 50%;z-index: -1;}#sk-container-id-1 div.sk-parallel-item {display: flex;flex-direction: column;z-index: 1;position: relative;background-color: white;}#sk-container-id-1 div.sk-parallel-item:first-child::after {align-self: flex-end;width: 50%;}#sk-container-id-1 div.sk-parallel-item:last-child::after {align-self: flex-start;width: 50%;}#sk-container-id-1 div.sk-parallel-item:only-child::after {width: 0;}#sk-container-id-1 div.sk-dashed-wrapped {border: 1px dashed gray;margin: 0 0.4em 0.5em 0.4em;box-sizing: border-box;padding-bottom: 0.4em;background-color: white;}#sk-container-id-1 div.sk-label label {font-family: monospace;font-weight: bold;display: inline-block;line-height: 1.2em;}#sk-container-id-1 div.sk-label-container {text-align: center;}#sk-container-id-1 div.sk-container {/* jupyter's `normalize.less` sets `[hidden] { display: none; }` but bootstrap.min.css set `[hidden] { display: none !important; }` so we also need the `!important` here to be able to override the default hidden behavior on the sphinx rendered scikit-learn.org. See: https://github.com/scikit-learn/scikit-learn/issues/21755 */display: inline-block !important;position: relative;}#sk-container-id-1 div.sk-text-repr-fallback {display: none;}</style><div id=\"sk-container-id-1\" class=\"sk-top-container\"><div class=\"sk-text-repr-fallback\"><pre>CountVectorizer(stop_words=[&#x27;except&#x27;, &#x27;been&#x27;, &#x27;about&#x27;, &#x27;my&#x27;, &#x27;whereupon&#x27;,\n",
       "                            &#x27;from&#x27;, &#x27;throughout&#x27;, &#x27;cannot&#x27;, &#x27;full&#x27;, &#x27;indeed&#x27;,\n",
       "                            &#x27;down&#x27;, &#x27;six&#x27;, &#x27;someone&#x27;, &#x27;thereby&#x27;, &#x27;only&#x27;, &#x27;or&#x27;,\n",
       "                            &#x27;here&#x27;, &#x27;now&#x27;, &#x27;both&#x27;, &#x27;yours&#x27;, &#x27;please&#x27;, &#x27;perhaps&#x27;,\n",
       "                            &#x27;too&#x27;, &#x27;thereafter&#x27;, &#x27;much&#x27;, &#x27;has&#x27;, &#x27;are&#x27;,\n",
       "                            &#x27;becomes&#x27;, &#x27;hers&#x27;, &#x27;being&#x27;, ...])</pre><b>In a Jupyter environment, please rerun this cell to show the HTML representation or trust the notebook. <br />On GitHub, the HTML representation is unable to render, please try loading this page with nbviewer.org.</b></div><div class=\"sk-container\" hidden><div class=\"sk-item\"><div class=\"sk-estimator sk-toggleable\"><input class=\"sk-toggleable__control sk-hidden--visually\" id=\"sk-estimator-id-1\" type=\"checkbox\" checked><label for=\"sk-estimator-id-1\" class=\"sk-toggleable__label sk-toggleable__label-arrow\">CountVectorizer</label><div class=\"sk-toggleable__content\"><pre>CountVectorizer(stop_words=[&#x27;except&#x27;, &#x27;been&#x27;, &#x27;about&#x27;, &#x27;my&#x27;, &#x27;whereupon&#x27;,\n",
       "                            &#x27;from&#x27;, &#x27;throughout&#x27;, &#x27;cannot&#x27;, &#x27;full&#x27;, &#x27;indeed&#x27;,\n",
       "                            &#x27;down&#x27;, &#x27;six&#x27;, &#x27;someone&#x27;, &#x27;thereby&#x27;, &#x27;only&#x27;, &#x27;or&#x27;,\n",
       "                            &#x27;here&#x27;, &#x27;now&#x27;, &#x27;both&#x27;, &#x27;yours&#x27;, &#x27;please&#x27;, &#x27;perhaps&#x27;,\n",
       "                            &#x27;too&#x27;, &#x27;thereafter&#x27;, &#x27;much&#x27;, &#x27;has&#x27;, &#x27;are&#x27;,\n",
       "                            &#x27;becomes&#x27;, &#x27;hers&#x27;, &#x27;being&#x27;, ...])</pre></div></div></div></div></div>"
      ],
      "text/plain": [
       "CountVectorizer(stop_words=['except', 'been', 'about', 'my', 'whereupon',\n",
       "                            'from', 'throughout', 'cannot', 'full', 'indeed',\n",
       "                            'down', 'six', 'someone', 'thereby', 'only', 'or',\n",
       "                            'here', 'now', 'both', 'yours', 'please', 'perhaps',\n",
       "                            'too', 'thereafter', 'much', 'has', 'are',\n",
       "                            'becomes', 'hers', 'being', ...])"
      ]
     },
     "execution_count": 14,
     "metadata": {},
     "output_type": "execute_result"
    }
   ],
   "source": [
    "word_model = CountVectorizer(min_df=1,\n",
    "                       stop_words=custom_stop_words)\n",
    "word_model.fit(reviews)"
   ]
  },
  {
   "cell_type": "markdown",
   "metadata": {},
   "source": [
    "<font size = \"5\">\n",
    "\n",
    "Check Vocabulary\n",
    "\n",
    "- Check in VS-Code Data Viewer\n",
    "- You can use preliminary findings to decide whether <br>\n",
    "to add more stop words"
   ]
  },
  {
   "cell_type": "code",
   "execution_count": null,
   "metadata": {},
   "outputs": [],
   "source": [
    "# Extract words in vocabulary and frequency\n",
    "vocabulary = word_model.vocabulary_\n",
    "\n",
    "# Convert to dataframew\n",
    "frequency_words  = pd.DataFrame(vocabulary.items(),\n",
    "                                columns=['Word', 'Frequency'])\n",
    "                                \n",
    "# Display sorted dataset                                \n",
    "frequency_words.sort_values(by = \"Frequency\",ascending=False)"
   ]
  },
  {
   "cell_type": "markdown",
   "metadata": {},
   "source": [
    "<font size = \"5\">\n",
    "\n",
    "Create a dataset counting which words are used <br>\n",
    "per review\n",
    "\n",
    "- Each row is a different review\n",
    "- Each column is a ${0,1}$ indicator on whether that <br>\n",
    "word was mentioned\n",
    "- Huge matrix!!"
   ]
  },
  {
   "cell_type": "code",
   "execution_count": 29,
   "metadata": {},
   "outputs": [
    {
     "data": {
      "text/plain": [
       "(1597, 1292)"
      ]
     },
     "execution_count": 29,
     "metadata": {},
     "output_type": "execute_result"
    }
   ],
   "source": [
    "# Create X matrix\n",
    "X = word_model.transform(reviews)\n",
    "\n",
    "# Check dimension of X matrix\n",
    "np.shape(X)"
   ]
  },
  {
   "cell_type": "markdown",
   "metadata": {},
   "source": [
    "<font size = \"5\">\n",
    "\n",
    "Try it yourself!\n",
    "\n",
    "Create a bag of words for the column \"review.title\".\n",
    "\n",
    "- What are the most common words?\n",
    "\n"
   ]
  },
  {
   "cell_type": "code",
   "execution_count": 34,
   "metadata": {},
   "outputs": [
    {
     "data": {
      "text/plain": [
       "0      NaN\n",
       "1      NaN\n",
       "2      NaN\n",
       "3      NaN\n",
       "4      NaN\n",
       "        ..\n",
       "1592   NaN\n",
       "1593   NaN\n",
       "1594   NaN\n",
       "1595   NaN\n",
       "1596   NaN\n",
       "Name: reviews.userCity, Length: 1597, dtype: float64"
      ]
     },
     "execution_count": 34,
     "metadata": {},
     "output_type": "execute_result"
    }
   ],
   "source": [
    "data[\"reviews.userCity\"]"
   ]
  },
  {
   "cell_type": "code",
   "execution_count": 35,
   "metadata": {},
   "outputs": [
    {
     "data": {
      "text/plain": [
       "0                          Paperwhite voyage, no regrets!\n",
       "1                       One Simply Could Not Ask For More\n",
       "2              Great for those that just want an e-reader\n",
       "3                                Love / Hate relationship\n",
       "4                                               I LOVE IT\n",
       "                              ...                        \n",
       "1592    I would be disappointed with myself if i produ...\n",
       "1593                          Battery draining remote!!!!\n",
       "1594        replacing an even worse remote. Waste of time\n",
       "1595                                           Overpriced\n",
       "1596    I am sending all of this crap back to amazon a...\n",
       "Name: reviews.title, Length: 1597, dtype: object"
      ]
     },
     "execution_count": 35,
     "metadata": {},
     "output_type": "execute_result"
    }
   ],
   "source": [
    "reviews1= data[\"reviews.title\"]\n",
    "reviews1=reviews1.fillna(\"\")\n",
    "reviews1"
   ]
  },
  {
   "cell_type": "code",
   "execution_count": 20,
   "metadata": {},
   "outputs": [
    {
     "name": "stderr",
     "output_type": "stream",
     "text": [
      "/opt/anaconda3/lib/python3.11/site-packages/sklearn/feature_extraction/text.py:409: UserWarning: Your stop_words may be inconsistent with your preprocessing. Tokenizing the stop words generated tokens ['python'] not in stop_words.\n",
      "  warnings.warn(\n"
     ]
    },
    {
     "data": {
      "text/html": [
       "<style>#sk-container-id-3 {color: black;background-color: white;}#sk-container-id-3 pre{padding: 0;}#sk-container-id-3 div.sk-toggleable {background-color: white;}#sk-container-id-3 label.sk-toggleable__label {cursor: pointer;display: block;width: 100%;margin-bottom: 0;padding: 0.3em;box-sizing: border-box;text-align: center;}#sk-container-id-3 label.sk-toggleable__label-arrow:before {content: \"▸\";float: left;margin-right: 0.25em;color: #696969;}#sk-container-id-3 label.sk-toggleable__label-arrow:hover:before {color: black;}#sk-container-id-3 div.sk-estimator:hover label.sk-toggleable__label-arrow:before {color: black;}#sk-container-id-3 div.sk-toggleable__content {max-height: 0;max-width: 0;overflow: hidden;text-align: left;background-color: #f0f8ff;}#sk-container-id-3 div.sk-toggleable__content pre {margin: 0.2em;color: black;border-radius: 0.25em;background-color: #f0f8ff;}#sk-container-id-3 input.sk-toggleable__control:checked~div.sk-toggleable__content {max-height: 200px;max-width: 100%;overflow: auto;}#sk-container-id-3 input.sk-toggleable__control:checked~label.sk-toggleable__label-arrow:before {content: \"▾\";}#sk-container-id-3 div.sk-estimator input.sk-toggleable__control:checked~label.sk-toggleable__label {background-color: #d4ebff;}#sk-container-id-3 div.sk-label input.sk-toggleable__control:checked~label.sk-toggleable__label {background-color: #d4ebff;}#sk-container-id-3 input.sk-hidden--visually {border: 0;clip: rect(1px 1px 1px 1px);clip: rect(1px, 1px, 1px, 1px);height: 1px;margin: -1px;overflow: hidden;padding: 0;position: absolute;width: 1px;}#sk-container-id-3 div.sk-estimator {font-family: monospace;background-color: #f0f8ff;border: 1px dotted black;border-radius: 0.25em;box-sizing: border-box;margin-bottom: 0.5em;}#sk-container-id-3 div.sk-estimator:hover {background-color: #d4ebff;}#sk-container-id-3 div.sk-parallel-item::after {content: \"\";width: 100%;border-bottom: 1px solid gray;flex-grow: 1;}#sk-container-id-3 div.sk-label:hover label.sk-toggleable__label {background-color: #d4ebff;}#sk-container-id-3 div.sk-serial::before {content: \"\";position: absolute;border-left: 1px solid gray;box-sizing: border-box;top: 0;bottom: 0;left: 50%;z-index: 0;}#sk-container-id-3 div.sk-serial {display: flex;flex-direction: column;align-items: center;background-color: white;padding-right: 0.2em;padding-left: 0.2em;position: relative;}#sk-container-id-3 div.sk-item {position: relative;z-index: 1;}#sk-container-id-3 div.sk-parallel {display: flex;align-items: stretch;justify-content: center;background-color: white;position: relative;}#sk-container-id-3 div.sk-item::before, #sk-container-id-3 div.sk-parallel-item::before {content: \"\";position: absolute;border-left: 1px solid gray;box-sizing: border-box;top: 0;bottom: 0;left: 50%;z-index: -1;}#sk-container-id-3 div.sk-parallel-item {display: flex;flex-direction: column;z-index: 1;position: relative;background-color: white;}#sk-container-id-3 div.sk-parallel-item:first-child::after {align-self: flex-end;width: 50%;}#sk-container-id-3 div.sk-parallel-item:last-child::after {align-self: flex-start;width: 50%;}#sk-container-id-3 div.sk-parallel-item:only-child::after {width: 0;}#sk-container-id-3 div.sk-dashed-wrapped {border: 1px dashed gray;margin: 0 0.4em 0.5em 0.4em;box-sizing: border-box;padding-bottom: 0.4em;background-color: white;}#sk-container-id-3 div.sk-label label {font-family: monospace;font-weight: bold;display: inline-block;line-height: 1.2em;}#sk-container-id-3 div.sk-label-container {text-align: center;}#sk-container-id-3 div.sk-container {/* jupyter's `normalize.less` sets `[hidden] { display: none; }` but bootstrap.min.css set `[hidden] { display: none !important; }` so we also need the `!important` here to be able to override the default hidden behavior on the sphinx rendered scikit-learn.org. See: https://github.com/scikit-learn/scikit-learn/issues/21755 */display: inline-block !important;position: relative;}#sk-container-id-3 div.sk-text-repr-fallback {display: none;}</style><div id=\"sk-container-id-3\" class=\"sk-top-container\"><div class=\"sk-text-repr-fallback\"><pre>CountVectorizer(stop_words=[&#x27;except&#x27;, &#x27;been&#x27;, &#x27;about&#x27;, &#x27;my&#x27;, &#x27;whereupon&#x27;,\n",
       "                            &#x27;from&#x27;, &#x27;throughout&#x27;, &#x27;cannot&#x27;, &#x27;full&#x27;, &#x27;indeed&#x27;,\n",
       "                            &#x27;down&#x27;, &#x27;six&#x27;, &#x27;someone&#x27;, &#x27;thereby&#x27;, &#x27;only&#x27;, &#x27;or&#x27;,\n",
       "                            &#x27;here&#x27;, &#x27;now&#x27;, &#x27;both&#x27;, &#x27;yours&#x27;, &#x27;please&#x27;, &#x27;perhaps&#x27;,\n",
       "                            &#x27;too&#x27;, &#x27;thereafter&#x27;, &#x27;much&#x27;, &#x27;has&#x27;, &#x27;are&#x27;,\n",
       "                            &#x27;becomes&#x27;, &#x27;hers&#x27;, &#x27;being&#x27;, ...])</pre><b>In a Jupyter environment, please rerun this cell to show the HTML representation or trust the notebook. <br />On GitHub, the HTML representation is unable to render, please try loading this page with nbviewer.org.</b></div><div class=\"sk-container\" hidden><div class=\"sk-item\"><div class=\"sk-estimator sk-toggleable\"><input class=\"sk-toggleable__control sk-hidden--visually\" id=\"sk-estimator-id-3\" type=\"checkbox\" checked><label for=\"sk-estimator-id-3\" class=\"sk-toggleable__label sk-toggleable__label-arrow\">CountVectorizer</label><div class=\"sk-toggleable__content\"><pre>CountVectorizer(stop_words=[&#x27;except&#x27;, &#x27;been&#x27;, &#x27;about&#x27;, &#x27;my&#x27;, &#x27;whereupon&#x27;,\n",
       "                            &#x27;from&#x27;, &#x27;throughout&#x27;, &#x27;cannot&#x27;, &#x27;full&#x27;, &#x27;indeed&#x27;,\n",
       "                            &#x27;down&#x27;, &#x27;six&#x27;, &#x27;someone&#x27;, &#x27;thereby&#x27;, &#x27;only&#x27;, &#x27;or&#x27;,\n",
       "                            &#x27;here&#x27;, &#x27;now&#x27;, &#x27;both&#x27;, &#x27;yours&#x27;, &#x27;please&#x27;, &#x27;perhaps&#x27;,\n",
       "                            &#x27;too&#x27;, &#x27;thereafter&#x27;, &#x27;much&#x27;, &#x27;has&#x27;, &#x27;are&#x27;,\n",
       "                            &#x27;becomes&#x27;, &#x27;hers&#x27;, &#x27;being&#x27;, ...])</pre></div></div></div></div></div>"
      ],
      "text/plain": [
       "CountVectorizer(stop_words=['except', 'been', 'about', 'my', 'whereupon',\n",
       "                            'from', 'throughout', 'cannot', 'full', 'indeed',\n",
       "                            'down', 'six', 'someone', 'thereby', 'only', 'or',\n",
       "                            'here', 'now', 'both', 'yours', 'please', 'perhaps',\n",
       "                            'too', 'thereafter', 'much', 'has', 'are',\n",
       "                            'becomes', 'hers', 'being', ...])"
      ]
     },
     "execution_count": 20,
     "metadata": {},
     "output_type": "execute_result"
    }
   ],
   "source": [
    "word_model1= CountVectorizer(min_df=1,\n",
    "                       stop_words=custom_stop_words)\n",
    "word_model1.fit(reviews1)"
   ]
  },
  {
   "cell_type": "code",
   "execution_count": 21,
   "metadata": {},
   "outputs": [
    {
     "data": {
      "text/html": [
       "<div>\n",
       "<style scoped>\n",
       "    .dataframe tbody tr th:only-of-type {\n",
       "        vertical-align: middle;\n",
       "    }\n",
       "\n",
       "    .dataframe tbody tr th {\n",
       "        vertical-align: top;\n",
       "    }\n",
       "\n",
       "    .dataframe thead th {\n",
       "        text-align: right;\n",
       "    }\n",
       "</style>\n",
       "<table border=\"1\" class=\"dataframe\">\n",
       "  <thead>\n",
       "    <tr style=\"text-align: right;\">\n",
       "      <th></th>\n",
       "      <th>Word</th>\n",
       "      <th>Frequency</th>\n",
       "    </tr>\n",
       "  </thead>\n",
       "  <tbody>\n",
       "    <tr>\n",
       "      <th>1146</th>\n",
       "      <td>zero</td>\n",
       "      <td>1291</td>\n",
       "    </tr>\n",
       "    <tr>\n",
       "      <th>795</th>\n",
       "      <td>young</td>\n",
       "      <td>1290</td>\n",
       "    </tr>\n",
       "    <tr>\n",
       "      <th>17</th>\n",
       "      <td>yes</td>\n",
       "      <td>1289</td>\n",
       "    </tr>\n",
       "    <tr>\n",
       "      <th>343</th>\n",
       "      <td>yeehaw</td>\n",
       "      <td>1288</td>\n",
       "    </tr>\n",
       "    <tr>\n",
       "      <th>313</th>\n",
       "      <td>years</td>\n",
       "      <td>1287</td>\n",
       "    </tr>\n",
       "    <tr>\n",
       "      <th>...</th>\n",
       "      <td>...</td>\n",
       "      <td>...</td>\n",
       "    </tr>\n",
       "    <tr>\n",
       "      <th>815</th>\n",
       "      <td>042</td>\n",
       "      <td>4</td>\n",
       "    </tr>\n",
       "    <tr>\n",
       "      <th>818</th>\n",
       "      <td>040</td>\n",
       "      <td>3</td>\n",
       "    </tr>\n",
       "    <tr>\n",
       "      <th>469</th>\n",
       "      <td>04</td>\n",
       "      <td>2</td>\n",
       "    </tr>\n",
       "    <tr>\n",
       "      <th>840</th>\n",
       "      <td>030</td>\n",
       "      <td>1</td>\n",
       "    </tr>\n",
       "    <tr>\n",
       "      <th>846</th>\n",
       "      <td>025</td>\n",
       "      <td>0</td>\n",
       "    </tr>\n",
       "  </tbody>\n",
       "</table>\n",
       "<p>1292 rows × 2 columns</p>\n",
       "</div>"
      ],
      "text/plain": [
       "        Word  Frequency\n",
       "1146    zero       1291\n",
       "795    young       1290\n",
       "17       yes       1289\n",
       "343   yeehaw       1288\n",
       "313    years       1287\n",
       "...      ...        ...\n",
       "815      042          4\n",
       "818      040          3\n",
       "469       04          2\n",
       "840      030          1\n",
       "846      025          0\n",
       "\n",
       "[1292 rows x 2 columns]"
      ]
     },
     "execution_count": 21,
     "metadata": {},
     "output_type": "execute_result"
    }
   ],
   "source": [
    "# Write your own code\n",
    "\n",
    "\n",
    "# Extract words in vocabulary and frequency\n",
    "vocabulary1 = word_model1.vocabulary_\n",
    "\n",
    "# Convert to dataframew\n",
    "frequency_words1  = pd.DataFrame(vocabulary1.items(),\n",
    "                                columns=['Word', 'Frequency'])\n",
    "                                \n",
    "# Display sorted dataset                                \n",
    "frequency_words1.sort_values(by = \"Frequency\",ascending=False)\n"
   ]
  },
  {
   "cell_type": "markdown",
   "metadata": {},
   "source": [
    "# <span style=\"color:darkblue\"> IV. Sentiment Analysis </span>\n",
    "\n",
    "<font size = \"5\">\n",
    "Sentiment analsys uses words to predict user ratings. <br>\n",
    "\n",
    "\n",
    "- In this case we have ratings labels\n",
    "- We'll use the data with nonmissing labels\n"
   ]
  },
  {
   "cell_type": "code",
   "execution_count": 24,
   "metadata": {},
   "outputs": [],
   "source": [
    "# Write your own code\n",
    "\n",
    "text = data_nonmissing[\"reviews.text\"]\n",
    "y    = data_nonmissing[\"reviews.rating\"]\n",
    "\n",
    "text_train, text_test, y_train, y_test = train_test_split(text, y,\n",
    "                                                    random_state=0)"
   ]
  },
  {
   "cell_type": "markdown",
   "metadata": {},
   "source": [
    "<font size = \"5\">\n",
    "\n",
    "Extract vectorized X"
   ]
  },
  {
   "cell_type": "code",
   "execution_count": 28,
   "metadata": {},
   "outputs": [
    {
     "data": {
      "text/plain": [
       "(882, 1292)"
      ]
     },
     "execution_count": 28,
     "metadata": {},
     "output_type": "execute_result"
    }
   ],
   "source": [
    "# Create X matrix\n",
    "word_model_train = CountVectorizer(min_df=1,\n",
    "                       stop_words=custom_stop_words)\n",
    "word_model_train.fit(text_train)\n",
    "X_train = word_model.transform(text_train)\n",
    "\n",
    "# Check dimension of X matrix\n",
    "np.shape(X_train)"
   ]
  },
  {
   "cell_type": "markdown",
   "metadata": {},
   "source": [
    "<font size = \"5\">\n",
    "\n",
    "We can compress the data using <br>\n",
    "truncated singular value decomposition (SVD)\n",
    "\n",
    "- This is an alternative to PCA that is better suited <br>\n",
    "for sparse, binary data like text"
   ]
  },
  {
   "cell_type": "code",
   "execution_count": 30,
   "metadata": {},
   "outputs": [
    {
     "data": {
      "text/plain": [
       "(882, 3)"
      ]
     },
     "execution_count": 30,
     "metadata": {},
     "output_type": "execute_result"
    }
   ],
   "source": [
    "svd = TruncatedSVD(n_components=3,random_state=42);\n",
    "svd.fit(X_train)\n",
    "X_svd_train = svd.transform(X_train)\n",
    "np.shape(X_svd_train)"
   ]
  },
  {
   "cell_type": "code",
   "execution_count": 31,
   "metadata": {},
   "outputs": [
    {
     "data": {
      "text/plain": [
       "[Text(0.5, 0, 'First Principal Component'),\n",
       " Text(0, 0.5, 'Second Principal Component')]"
      ]
     },
     "execution_count": 31,
     "metadata": {},
     "output_type": "execute_result"
    },
    {
     "data": {
      "image/png": "[encoded data removed]",
      "text/plain": [
       "<Figure size 640x480 with 1 Axes>"
      ]
     },
     "metadata": {},
     "output_type": "display_data"
    }
   ],
   "source": [
    "# Hue is used to color\n",
    "ax = sns.scatterplot(x = X_svd_train[:,0],\n",
    "                     y = y_train)\n",
    "ax.set(xlabel='First Principal Component',\n",
    "       ylabel='Second Principal Component')\n"
   ]
  },
  {
   "cell_type": "markdown",
   "metadata": {},
   "source": [
    "<font size = \"5\">\n",
    "\n",
    "Try it yourself!\n",
    "\n",
    "Create a machine learning pipeline\n",
    "\n",
    "- Run a support vector machine regression to predict user ratings\n",
    "- What is the out-of-sample performance on the test data?\n",
    "- Use your data to predict reviews that were missing\n",
    "- How does the distribution of missing to non-missing reviews compare?\n",
    "\n"
   ]
  },
  {
   "cell_type": "code",
   "execution_count": 40,
   "metadata": {},
   "outputs": [
    {
     "name": "stdout",
     "output_type": "stream",
     "text": [
      "Missing reviews count: 420\n",
      "Non-missing reviews count: 1177\n",
      "Missing to non-missing ratio: 0.356839422259983\n"
     ]
    }
   ],
   "source": [
    "\n",
    "# Write your own code\n",
    "\n",
    "# Create the pipeline\n",
    "pipeline = Pipeline([\n",
    "    ('vectorizer', CountVectorizer(stop_words=custom_stop_words)),\n",
    "    ('svd', TruncatedSVD(n_components=3, random_state=42)),\n",
    "    ('regressor', SVR())\n",
    "])\n",
    "\n",
    "# Fit the pipeline on the training data\n",
    "# Convert the numpy array to a list\n",
    "text_train_list = text_train.tolist()\n",
    "\n",
    "# Fit the pipeline on the training data\n",
    "word_model_train.fit(text_train_list)\n",
    "X_train = word_model_train.transform(text_train_list)\n",
    "missing_count = len(data[data[\"reviews.rating\"].isnull()])\n",
    "non_missing_count = len(data[data[\"reviews.rating\"].notnull()])\n",
    "print(\"Missing reviews count:\", missing_count)\n",
    "print(\"Non-missing reviews count:\", non_missing_count)\n",
    "print(\"Missing to non-missing ratio:\", missing_count / non_missing_count)\n",
    "\n",
    "\n"
   ]
  },
  {
   "cell_type": "markdown",
   "metadata": {},
   "source": [
    "<font size = \"5\">\n",
    "\n",
    "Try it yourself!\n",
    "\n",
    "- What happens if you change the minimum frequency of words <br>\n",
    "and/or change the number of components?"
   ]
  },
  {
   "cell_type": "code",
   "execution_count": null,
   "metadata": {},
   "outputs": [],
   "source": [
    "# Write your own code\n",
    "\n",
    "\n",
    "\n"
   ]
  }
 ],
 "metadata": {
  "kernelspec": {
   "display_name": "base",
   "language": "python",
   "name": "python3"
  },
  "language_info": {
   "codemirror_mode": {
    "name": "ipython",
    "version": 3
   },
   "file_extension": ".py",
   "mimetype": "text/x-python",
   "name": "python",
   "nbconvert_exporter": "python",
   "pygments_lexer": "ipython3",
   "version": "3.11.5"
  },
  "orig_nbformat": 4,
  "vscode": {
   "interpreter": {
    "hash": "45fc1f684f6f416f40889115beff3ddf69879b64cf4bfee48cb72a61e9d15d1a"
   }
  }
 },
 "nbformat": 4,
 "nbformat_minor": 2
}
