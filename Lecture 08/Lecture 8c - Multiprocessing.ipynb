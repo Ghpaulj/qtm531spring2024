{
 "cells": [
  {
   "attachments": {},
   "cell_type": "markdown",
   "metadata": {},
   "source": [
    "# <span style=\"color:darkblue\"> Lecture 8b: Multiprocessing </span>"
   ]
  },
  {
   "cell_type": "markdown",
   "metadata": {},
   "source": [
    "# <span style=\"color:darkblue\"> I. Before we start </span>"
   ]
  },
  {
   "cell_type": "markdown",
   "metadata": {},
   "source": [
    "<font size = \"5\">\n",
    "\n",
    "Follow these instructions:\n",
    "\n",
    "<font size = \"3\">\n",
    "\n",
    "Install the following packages in Anaconda.<br>\n",
    "Open your operating system terminal and type the following:\n",
    "\n",
    "``` conda install conda-forge::multiprocess  ``` <br>\n",
    "\n",
    "In Windows you can also uses the Anaconda Prompt"
   ]
  },
  {
   "attachments": {},
   "cell_type": "markdown",
   "metadata": {},
   "source": [
    "<font size = \"5\">\n",
    "\n",
    "Import relevant packages"
   ]
  },
  {
   "cell_type": "code",
   "execution_count": 13,
   "metadata": {},
   "outputs": [],
   "source": [
    "import multiprocess as mp\n",
    "import time\n",
    "import numpy as np\n",
    "import matplotlib.pyplot as plt\n",
    "import pandas as pd"
   ]
  },
  {
   "cell_type": "markdown",
   "metadata": {},
   "source": [
    "## <span style=\"color:darkblue\"> II. Basics of multi-processing </span>"
   ]
  },
  {
   "cell_type": "markdown",
   "metadata": {},
   "source": [
    "<font size = \"5\">\n",
    "\n",
    "Count number of CPUs"
   ]
  },
  {
   "cell_type": "code",
   "execution_count": 14,
   "metadata": {},
   "outputs": [
    {
     "data": {
      "text/plain": [
       "10"
      ]
     },
     "execution_count": 14,
     "metadata": {},
     "output_type": "execute_result"
    }
   ],
   "source": [
    "num_cpus = mp.cpu_count()\n",
    "\n",
    "num_cpus"
   ]
  },
  {
   "cell_type": "markdown",
   "metadata": {},
   "source": [
    "<font size = \"5\">\n",
    "\n",
    "Define functions"
   ]
  },
  {
   "cell_type": "code",
   "execution_count": 15,
   "metadata": {},
   "outputs": [],
   "source": [
    "fn_iseligible_vote = lambda age: age >= 18"
   ]
  },
  {
   "cell_type": "markdown",
   "metadata": {},
   "source": [
    "<font size = \"5\">\n",
    "\n",
    "Looping  + Functions\n"
   ]
  },
  {
   "cell_type": "code",
   "execution_count": 16,
   "metadata": {},
   "outputs": [
    {
     "name": "stdout",
     "output_type": "stream",
     "text": [
      "True\n",
      "True\n",
      "False\n",
      "True\n",
      "False\n"
     ]
    }
   ],
   "source": [
    "list_ages = [18,29,15,32,6]\n",
    "\n",
    "for age in list_ages:\n",
    "    print(str(fn_iseligible_vote(age)))\n"
   ]
  },
  {
   "cell_type": "markdown",
   "metadata": {},
   "source": [
    "<font size = \"5\">\n",
    "\n",
    "Map  + Functions\n"
   ]
  },
  {
   "cell_type": "code",
   "execution_count": 17,
   "metadata": {},
   "outputs": [
    {
     "data": {
      "text/plain": [
       "[True, True, False, True, False]"
      ]
     },
     "execution_count": 17,
     "metadata": {},
     "output_type": "execute_result"
    }
   ],
   "source": [
    "list_ages = [18,29,15,32,6]\n",
    "output = list(map(fn_iseligible_vote,list_ages))\n",
    "output"
   ]
  },
  {
   "cell_type": "markdown",
   "metadata": {},
   "source": [
    "<font size = \"5\">\n",
    "\n",
    "Parallel Map + Functions\n",
    "\n",
    "- Use the \"pool\" command to distribute computation across <br>\n",
    "differen processors in the computer\n"
   ]
  },
  {
   "cell_type": "code",
   "execution_count": 18,
   "metadata": {},
   "outputs": [
    {
     "data": {
      "text/plain": [
       "[True, True, False, True, False]"
      ]
     },
     "execution_count": 18,
     "metadata": {},
     "output_type": "execute_result"
    }
   ],
   "source": [
    "list_ages = [18,29,15,32,6]\n",
    "\n",
    "with mp.Pool(num_cpus) as pool:\n",
    "    output = pool.map(fn_iseligible_vote, list_ages)\n",
    "\n",
    "output"
   ]
  },
  {
   "cell_type": "markdown",
   "metadata": {},
   "source": [
    "## <span style=\"color:darkblue\"> III. Other tricks </span>"
   ]
  },
  {
   "cell_type": "markdown",
   "metadata": {},
   "source": [
    "<font size = \"5\">\n",
    "\n",
    "Partialling out:\n",
    "- Make functions only depend on one argument <br>\n",
    "with the other fixed at a fixed value"
   ]
  },
  {
   "cell_type": "code",
   "execution_count": 19,
   "metadata": {},
   "outputs": [
    {
     "data": {
      "text/plain": [
       "7"
      ]
     },
     "execution_count": 19,
     "metadata": {},
     "output_type": "execute_result"
    }
   ],
   "source": [
    "import functools\n",
    "\n",
    "fn_twoarguments = lambda x,y: x + y\n",
    "\n",
    "fn_oneargument = functools.partial(fn_twoarguments, y=2)\n",
    "\n",
    "# The other parameter is assiged at the previous predetermined value\n",
    "fn_oneargument(x = 5)\n"
   ]
  },
  {
   "cell_type": "markdown",
   "metadata": {},
   "source": [
    "<font size = \"5\">\n",
    "\n",
    "\n",
    "Parallelizing functions with output of variable length\n"
   ]
  },
  {
   "cell_type": "code",
   "execution_count": 20,
   "metadata": {},
   "outputs": [
    {
     "name": "stdout",
     "output_type": "stream",
     "text": [
      "[4 6 8]\n",
      "[ 2 18  8 10  4 12 16  8]\n"
     ]
    }
   ],
   "source": [
    "import multiprocess as mp\n",
    "\n",
    "def bubble_sort(x):\n",
    "    return np.array(x)*2\n",
    "\n",
    "with mp.Pool(10) as pool:\n",
    "    a = pool.map(bubble_sort, [[2,3,4],[1,9,4,5,2,6,8,4]])\n",
    "\n",
    "print(a[0])\n",
    "print(a[1])"
   ]
  },
  {
   "cell_type": "markdown",
   "metadata": {},
   "source": [
    "<font size =\"5\">\n",
    "\n",
    "Parallelizing functions with multiple output"
   ]
  },
  {
   "cell_type": "code",
   "execution_count": 25,
   "metadata": {},
   "outputs": [],
   "source": [
    "import multiprocess as mp\n",
    "\n",
    "def bubble_sort(x):\n",
    "    return pd.DataFrame({\"x_bar\":np.sum(x), \"xsd\" : np.std(x)}, index = [0])\n",
    "\n",
    "with mp.Pool(10) as pool:\n",
    "    a = pool.map(bubble_sort, [[2,3,4],[1,9,4,5,2,6,8,4]])\n",
    "\n",
    "results_table = pd.concat(a)"
   ]
  },
  {
   "cell_type": "markdown",
   "metadata": {},
   "source": [
    "## <span style=\"color:darkblue\"> IV. Application: Running Simulations </span>"
   ]
  },
  {
   "cell_type": "markdown",
   "metadata": {},
   "source": [
    "<font size = \"5\"> \n",
    "\n",
    "Simulation via for loops"
   ]
  },
  {
   "cell_type": "code",
   "execution_count": 21,
   "metadata": {},
   "outputs": [
    {
     "data": {
      "image/png": "[encoded data removed]",
      "text/plain": [
       "<Figure size 432x288 with 1 Axes>"
      ]
     },
     "metadata": {
      "needs_background": "light"
     },
     "output_type": "display_data"
    }
   ],
   "source": [
    "# To evaluate different sample size which just have to write a for-loop within \n",
    "# another for-loop\n",
    "\n",
    "num_simulations = 2000\n",
    "sample_size = 100\n",
    "\n",
    "# The following command a vector null values, of length \"num_simulations\"\n",
    "vec_xbar = [None] * num_simulations\n",
    "\n",
    "for iteration in range(num_simulations):\n",
    "        vec_unif  = np.random.uniform(low = -2, high=2, size = sample_size)\n",
    "        vec_xbar[iteration] = vec_unif.mean()\n",
    "\n",
    "plt.hist(vec_xbar)\n",
    "plt.title(\"Distribution of Xbar when n is \" + str(sample_size))\n",
    "plt.ylabel(\"Frequency\")\n",
    "plt.xlabel(\"Values of Xbar\")\n",
    "plt.show()\n",
    "\n",
    "    "
   ]
  },
  {
   "cell_type": "markdown",
   "metadata": {},
   "source": [
    "<font size = \"5\">\n",
    "\n",
    "Writing the main task as a function"
   ]
  },
  {
   "cell_type": "code",
   "execution_count": 22,
   "metadata": {},
   "outputs": [
    {
     "data": {
      "text/html": [
       "<div>\n",
       "<style scoped>\n",
       "    .dataframe tbody tr th:only-of-type {\n",
       "        vertical-align: middle;\n",
       "    }\n",
       "\n",
       "    .dataframe tbody tr th {\n",
       "        vertical-align: top;\n",
       "    }\n",
       "\n",
       "    .dataframe thead th {\n",
       "        text-align: right;\n",
       "    }\n",
       "</style>\n",
       "<table border=\"1\" class=\"dataframe\">\n",
       "  <thead>\n",
       "    <tr style=\"text-align: right;\">\n",
       "      <th></th>\n",
       "      <th>xbar</th>\n",
       "      <th>xsd</th>\n",
       "    </tr>\n",
       "  </thead>\n",
       "  <tbody>\n",
       "    <tr>\n",
       "      <th>0</th>\n",
       "      <td>-0.012868</td>\n",
       "      <td>1.172642</td>\n",
       "    </tr>\n",
       "  </tbody>\n",
       "</table>\n",
       "</div>"
      ],
      "text/plain": [
       "       xbar       xsd\n",
       "0 -0.012868  1.172642"
      ]
     },
     "execution_count": 22,
     "metadata": {},
     "output_type": "execute_result"
    }
   ],
   "source": [
    "# We define a function\n",
    "# The iteration argument is not used in the body of the code\n",
    "# and is only used to keep track of iterations for the parallel code later\n",
    "\n",
    "def simulate_estimator(iteration):\n",
    "    vec_unif  = np.random.uniform(low = -2, high=2, size = sample_size)\n",
    "    xbar = vec_unif.mean()\n",
    "    xsd  = vec_unif.std()\n",
    "    return pd.DataFrame({\"xbar\":xbar, \"xsd\" : xsd}, index = [0])\n",
    "\n",
    "# Rest that the function is running\n",
    "simulate_estimator(0)"
   ]
  },
  {
   "cell_type": "markdown",
   "metadata": {},
   "source": [
    "<font size = \"5\"> \n",
    "\n",
    "Simulation via multiprocessing"
   ]
  },
  {
   "cell_type": "code",
   "execution_count": 23,
   "metadata": {},
   "outputs": [],
   "source": [
    "with mp.Pool(num_cpus) as pool:\n",
    "    vec_xbar = pool.map(simulate_estimator, range(num_simulations))\n",
    "\n",
    "results_table = pd.concat(vec_xbar)"
   ]
  },
  {
   "cell_type": "markdown",
   "metadata": {},
   "source": [
    "<font size =\"5\">\n",
    "\n",
    "Try it yourself! Test whether this is a 95% confidence interval\n",
    "\n",
    "Code the following exercise from Lecture 7 in parallel.\n"
   ]
  },
  {
   "cell_type": "markdown",
   "metadata": {},
   "source": [
    "<font size = \"3\">\n",
    "\n",
    "Procedure:\n",
    "- Create a variable called \"num_simulations\" with value 1000\n",
    "- Create the simulation parameters \"n\", \"population_mean\", \"populations_stdv\".\n",
    "- Create an empty vector called \"list_test_confidenceinterval\".\n",
    "- Create a loop. At each iteration:\n",
    "\n",
    "    - Create a vector of normal random variables of size \"n\".\n",
    "    - Create a variable \"test_confidenceinterval\", which tests:\n",
    "    \n",
    "        lower_bound $\\quad \\le \\quad $ population_mean $\\quad \\le \\quad$ upper_bound\n",
    "    - Append \"test_confidenceinterval\" to the above list\n",
    "    \n",
    "- Compute the mean of \"list_test_confidenceinterval\"\n",
    "\n",
    "Note: The final result should be close to 95%.\n",
    "\n"
   ]
  },
  {
   "cell_type": "code",
   "execution_count": 23,
   "metadata": {},
   "outputs": [],
   "source": [
    "# Write your own code\n",
    "\n",
    "\n",
    "\n"
   ]
  }
 ],
 "metadata": {
  "kernelspec": {
   "display_name": "base",
   "language": "python",
   "name": "python3"
  },
  "language_info": {
   "codemirror_mode": {
    "name": "ipython",
    "version": 3
   },
   "file_extension": ".py",
   "mimetype": "text/x-python",
   "name": "python",
   "nbconvert_exporter": "python",
   "pygments_lexer": "ipython3",
   "version": "3.9.12"
  },
  "orig_nbformat": 4,
  "vscode": {
   "interpreter": {
    "hash": "45fc1f684f6f416f40889115beff3ddf69879b64cf4bfee48cb72a61e9d15d1a"
   }
  }
 },
 "nbformat": 4,
 "nbformat_minor": 2
}
